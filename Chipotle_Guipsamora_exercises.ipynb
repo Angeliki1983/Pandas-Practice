{
 "cells": [
  {
   "cell_type": "markdown",
   "metadata": {},
   "source": [
    "# Ex2 - Getting and Knowing your Data"
   ]
  },
  {
   "cell_type": "markdown",
   "metadata": {},
   "source": [
    "This time we are going to pull data directly from the internet.\n",
    "Special thanks to: https://github.com/justmarkham for sharing the dataset and materials.\n",
    "\n",
    "### Step 1. Import the necessary libraries"
   ]
  },
  {
   "cell_type": "code",
   "execution_count": 127,
   "metadata": {
    "collapsed": false
   },
   "outputs": [],
   "source": [
    "import pandas as pd\n",
    "import numpy as np"
   ]
  },
  {
   "cell_type": "markdown",
   "metadata": {},
   "source": [
    "### Step 2. Import the dataset from this [address](https://raw.githubusercontent.com/justmarkham/DAT8/master/data/chipotle.tsv). "
   ]
  },
  {
   "cell_type": "markdown",
   "metadata": {},
   "source": [
    "This file is a .tsv file. We can import a .tsv (Tab-separated values) file into a Jupyter Notebook using the pandas library in Python. Pandas provides a convenient method to read TSV files using pd.read_csv() function by specifying the delimiter parameter (delimiter='\\t')."
   ]
  },
  {
   "cell_type": "markdown",
   "metadata": {},
   "source": [
    "### Step 3. Assign it to a variable called chipo."
   ]
  },
  {
   "cell_type": "code",
   "execution_count": 128,
   "metadata": {
    "collapsed": false
   },
   "outputs": [],
   "source": [
    "chipo = pd.read_csv(r\"https://raw.githubusercontent.com/justmarkham/DAT8/master/data/chipotle.tsv\", delimiter='\\t')"
   ]
  },
  {
   "cell_type": "markdown",
   "metadata": {},
   "source": [
    "### Step 4. See the first 10 entries"
   ]
  },
  {
   "cell_type": "code",
   "execution_count": 129,
   "metadata": {
    "collapsed": false,
    "scrolled": false
   },
   "outputs": [
    {
     "data": {
      "text/html": [
       "<div>\n",
       "<style scoped>\n",
       "    .dataframe tbody tr th:only-of-type {\n",
       "        vertical-align: middle;\n",
       "    }\n",
       "\n",
       "    .dataframe tbody tr th {\n",
       "        vertical-align: top;\n",
       "    }\n",
       "\n",
       "    .dataframe thead th {\n",
       "        text-align: right;\n",
       "    }\n",
       "</style>\n",
       "<table border=\"1\" class=\"dataframe\">\n",
       "  <thead>\n",
       "    <tr style=\"text-align: right;\">\n",
       "      <th></th>\n",
       "      <th>order_id</th>\n",
       "      <th>quantity</th>\n",
       "      <th>item_name</th>\n",
       "      <th>choice_description</th>\n",
       "      <th>item_price</th>\n",
       "    </tr>\n",
       "  </thead>\n",
       "  <tbody>\n",
       "    <tr>\n",
       "      <th>0</th>\n",
       "      <td>1</td>\n",
       "      <td>1</td>\n",
       "      <td>Chips and Fresh Tomato Salsa</td>\n",
       "      <td>NaN</td>\n",
       "      <td>$2.39</td>\n",
       "    </tr>\n",
       "    <tr>\n",
       "      <th>1</th>\n",
       "      <td>1</td>\n",
       "      <td>1</td>\n",
       "      <td>Izze</td>\n",
       "      <td>[Clementine]</td>\n",
       "      <td>$3.39</td>\n",
       "    </tr>\n",
       "    <tr>\n",
       "      <th>2</th>\n",
       "      <td>1</td>\n",
       "      <td>1</td>\n",
       "      <td>Nantucket Nectar</td>\n",
       "      <td>[Apple]</td>\n",
       "      <td>$3.39</td>\n",
       "    </tr>\n",
       "    <tr>\n",
       "      <th>3</th>\n",
       "      <td>1</td>\n",
       "      <td>1</td>\n",
       "      <td>Chips and Tomatillo-Green Chili Salsa</td>\n",
       "      <td>NaN</td>\n",
       "      <td>$2.39</td>\n",
       "    </tr>\n",
       "    <tr>\n",
       "      <th>4</th>\n",
       "      <td>2</td>\n",
       "      <td>2</td>\n",
       "      <td>Chicken Bowl</td>\n",
       "      <td>[Tomatillo-Red Chili Salsa (Hot), [Black Beans...</td>\n",
       "      <td>$16.98</td>\n",
       "    </tr>\n",
       "    <tr>\n",
       "      <th>5</th>\n",
       "      <td>3</td>\n",
       "      <td>1</td>\n",
       "      <td>Chicken Bowl</td>\n",
       "      <td>[Fresh Tomato Salsa (Mild), [Rice, Cheese, Sou...</td>\n",
       "      <td>$10.98</td>\n",
       "    </tr>\n",
       "    <tr>\n",
       "      <th>6</th>\n",
       "      <td>3</td>\n",
       "      <td>1</td>\n",
       "      <td>Side of Chips</td>\n",
       "      <td>NaN</td>\n",
       "      <td>$1.69</td>\n",
       "    </tr>\n",
       "    <tr>\n",
       "      <th>7</th>\n",
       "      <td>4</td>\n",
       "      <td>1</td>\n",
       "      <td>Steak Burrito</td>\n",
       "      <td>[Tomatillo Red Chili Salsa, [Fajita Vegetables...</td>\n",
       "      <td>$11.75</td>\n",
       "    </tr>\n",
       "    <tr>\n",
       "      <th>8</th>\n",
       "      <td>4</td>\n",
       "      <td>1</td>\n",
       "      <td>Steak Soft Tacos</td>\n",
       "      <td>[Tomatillo Green Chili Salsa, [Pinto Beans, Ch...</td>\n",
       "      <td>$9.25</td>\n",
       "    </tr>\n",
       "    <tr>\n",
       "      <th>9</th>\n",
       "      <td>5</td>\n",
       "      <td>1</td>\n",
       "      <td>Steak Burrito</td>\n",
       "      <td>[Fresh Tomato Salsa, [Rice, Black Beans, Pinto...</td>\n",
       "      <td>$9.25</td>\n",
       "    </tr>\n",
       "    <tr>\n",
       "      <th>10</th>\n",
       "      <td>5</td>\n",
       "      <td>1</td>\n",
       "      <td>Chips and Guacamole</td>\n",
       "      <td>NaN</td>\n",
       "      <td>$4.45</td>\n",
       "    </tr>\n",
       "    <tr>\n",
       "      <th>11</th>\n",
       "      <td>6</td>\n",
       "      <td>1</td>\n",
       "      <td>Chicken Crispy Tacos</td>\n",
       "      <td>[Roasted Chili Corn Salsa, [Fajita Vegetables,...</td>\n",
       "      <td>$8.75</td>\n",
       "    </tr>\n",
       "    <tr>\n",
       "      <th>12</th>\n",
       "      <td>6</td>\n",
       "      <td>1</td>\n",
       "      <td>Chicken Soft Tacos</td>\n",
       "      <td>[Roasted Chili Corn Salsa, [Rice, Black Beans,...</td>\n",
       "      <td>$8.75</td>\n",
       "    </tr>\n",
       "    <tr>\n",
       "      <th>13</th>\n",
       "      <td>7</td>\n",
       "      <td>1</td>\n",
       "      <td>Chicken Bowl</td>\n",
       "      <td>[Fresh Tomato Salsa, [Fajita Vegetables, Rice,...</td>\n",
       "      <td>$11.25</td>\n",
       "    </tr>\n",
       "    <tr>\n",
       "      <th>14</th>\n",
       "      <td>7</td>\n",
       "      <td>1</td>\n",
       "      <td>Chips and Guacamole</td>\n",
       "      <td>NaN</td>\n",
       "      <td>$4.45</td>\n",
       "    </tr>\n",
       "    <tr>\n",
       "      <th>15</th>\n",
       "      <td>8</td>\n",
       "      <td>1</td>\n",
       "      <td>Chips and Tomatillo-Green Chili Salsa</td>\n",
       "      <td>NaN</td>\n",
       "      <td>$2.39</td>\n",
       "    </tr>\n",
       "    <tr>\n",
       "      <th>16</th>\n",
       "      <td>8</td>\n",
       "      <td>1</td>\n",
       "      <td>Chicken Burrito</td>\n",
       "      <td>[Tomatillo-Green Chili Salsa (Medium), [Pinto ...</td>\n",
       "      <td>$8.49</td>\n",
       "    </tr>\n",
       "    <tr>\n",
       "      <th>17</th>\n",
       "      <td>9</td>\n",
       "      <td>1</td>\n",
       "      <td>Chicken Burrito</td>\n",
       "      <td>[Fresh Tomato Salsa (Mild), [Black Beans, Rice...</td>\n",
       "      <td>$8.49</td>\n",
       "    </tr>\n",
       "    <tr>\n",
       "      <th>18</th>\n",
       "      <td>9</td>\n",
       "      <td>2</td>\n",
       "      <td>Canned Soda</td>\n",
       "      <td>[Sprite]</td>\n",
       "      <td>$2.18</td>\n",
       "    </tr>\n",
       "    <tr>\n",
       "      <th>19</th>\n",
       "      <td>10</td>\n",
       "      <td>1</td>\n",
       "      <td>Chicken Bowl</td>\n",
       "      <td>[Tomatillo Red Chili Salsa, [Fajita Vegetables...</td>\n",
       "      <td>$8.75</td>\n",
       "    </tr>\n",
       "  </tbody>\n",
       "</table>\n",
       "</div>"
      ],
      "text/plain": [
       "    order_id  quantity                              item_name  \\\n",
       "0          1         1           Chips and Fresh Tomato Salsa   \n",
       "1          1         1                                   Izze   \n",
       "2          1         1                       Nantucket Nectar   \n",
       "3          1         1  Chips and Tomatillo-Green Chili Salsa   \n",
       "4          2         2                           Chicken Bowl   \n",
       "5          3         1                           Chicken Bowl   \n",
       "6          3         1                          Side of Chips   \n",
       "7          4         1                          Steak Burrito   \n",
       "8          4         1                       Steak Soft Tacos   \n",
       "9          5         1                          Steak Burrito   \n",
       "10         5         1                    Chips and Guacamole   \n",
       "11         6         1                   Chicken Crispy Tacos   \n",
       "12         6         1                     Chicken Soft Tacos   \n",
       "13         7         1                           Chicken Bowl   \n",
       "14         7         1                    Chips and Guacamole   \n",
       "15         8         1  Chips and Tomatillo-Green Chili Salsa   \n",
       "16         8         1                        Chicken Burrito   \n",
       "17         9         1                        Chicken Burrito   \n",
       "18         9         2                            Canned Soda   \n",
       "19        10         1                           Chicken Bowl   \n",
       "\n",
       "                                   choice_description item_price  \n",
       "0                                                 NaN     $2.39   \n",
       "1                                        [Clementine]     $3.39   \n",
       "2                                             [Apple]     $3.39   \n",
       "3                                                 NaN     $2.39   \n",
       "4   [Tomatillo-Red Chili Salsa (Hot), [Black Beans...    $16.98   \n",
       "5   [Fresh Tomato Salsa (Mild), [Rice, Cheese, Sou...    $10.98   \n",
       "6                                                 NaN     $1.69   \n",
       "7   [Tomatillo Red Chili Salsa, [Fajita Vegetables...    $11.75   \n",
       "8   [Tomatillo Green Chili Salsa, [Pinto Beans, Ch...     $9.25   \n",
       "9   [Fresh Tomato Salsa, [Rice, Black Beans, Pinto...     $9.25   \n",
       "10                                                NaN     $4.45   \n",
       "11  [Roasted Chili Corn Salsa, [Fajita Vegetables,...     $8.75   \n",
       "12  [Roasted Chili Corn Salsa, [Rice, Black Beans,...     $8.75   \n",
       "13  [Fresh Tomato Salsa, [Fajita Vegetables, Rice,...    $11.25   \n",
       "14                                                NaN     $4.45   \n",
       "15                                                NaN     $2.39   \n",
       "16  [Tomatillo-Green Chili Salsa (Medium), [Pinto ...     $8.49   \n",
       "17  [Fresh Tomato Salsa (Mild), [Black Beans, Rice...     $8.49   \n",
       "18                                           [Sprite]     $2.18   \n",
       "19  [Tomatillo Red Chili Salsa, [Fajita Vegetables...     $8.75   "
      ]
     },
     "execution_count": 129,
     "metadata": {},
     "output_type": "execute_result"
    }
   ],
   "source": [
    "chipo.head(20)"
   ]
  },
  {
   "cell_type": "markdown",
   "metadata": {},
   "source": [
    "### Step 5. What is the number of observations in the dataset?"
   ]
  },
  {
   "cell_type": "markdown",
   "metadata": {},
   "source": [
    "I use .info() which provides a concise summary of the DataFrame, including the number of non-null entries for each column.\n",
    "- It also displays the total number of rows (entries) in the DataFrame.\n",
    "- This method is straightforward for quickly checking the number of rows."
   ]
  },
  {
   "cell_type": "code",
   "execution_count": 130,
   "metadata": {
    "collapsed": false
   },
   "outputs": [
    {
     "name": "stdout",
     "output_type": "stream",
     "text": [
      "<class 'pandas.core.frame.DataFrame'>\n",
      "RangeIndex: 4622 entries, 0 to 4621\n",
      "Data columns (total 5 columns):\n",
      " #   Column              Non-Null Count  Dtype \n",
      "---  ------              --------------  ----- \n",
      " 0   order_id            4622 non-null   int64 \n",
      " 1   quantity            4622 non-null   int64 \n",
      " 2   item_name           4622 non-null   object\n",
      " 3   choice_description  3376 non-null   object\n",
      " 4   item_price          4622 non-null   object\n",
      "dtypes: int64(2), object(3)\n",
      "memory usage: 180.7+ KB\n"
     ]
    }
   ],
   "source": [
    "# Solution 1\n",
    "chipo.info()\n",
    "\n"
   ]
  },
  {
   "cell_type": "markdown",
   "metadata": {},
   "source": [
    "I use .describe() which provides summary statistics for numerical columns by default (int64 and float64 types).\n",
    "It does not directly give you the count of rows; instead, it focuses on statistical information like mean, min, max, etc., for numerical data."
   ]
  },
  {
   "cell_type": "code",
   "execution_count": 131,
   "metadata": {
    "collapsed": false
   },
   "outputs": [
    {
     "data": {
      "text/html": [
       "<div>\n",
       "<style scoped>\n",
       "    .dataframe tbody tr th:only-of-type {\n",
       "        vertical-align: middle;\n",
       "    }\n",
       "\n",
       "    .dataframe tbody tr th {\n",
       "        vertical-align: top;\n",
       "    }\n",
       "\n",
       "    .dataframe thead th {\n",
       "        text-align: right;\n",
       "    }\n",
       "</style>\n",
       "<table border=\"1\" class=\"dataframe\">\n",
       "  <thead>\n",
       "    <tr style=\"text-align: right;\">\n",
       "      <th></th>\n",
       "      <th>order_id</th>\n",
       "      <th>quantity</th>\n",
       "    </tr>\n",
       "  </thead>\n",
       "  <tbody>\n",
       "    <tr>\n",
       "      <th>count</th>\n",
       "      <td>4622.000000</td>\n",
       "      <td>4622.000000</td>\n",
       "    </tr>\n",
       "    <tr>\n",
       "      <th>mean</th>\n",
       "      <td>927.254868</td>\n",
       "      <td>1.075725</td>\n",
       "    </tr>\n",
       "    <tr>\n",
       "      <th>std</th>\n",
       "      <td>528.890796</td>\n",
       "      <td>0.410186</td>\n",
       "    </tr>\n",
       "    <tr>\n",
       "      <th>min</th>\n",
       "      <td>1.000000</td>\n",
       "      <td>1.000000</td>\n",
       "    </tr>\n",
       "    <tr>\n",
       "      <th>25%</th>\n",
       "      <td>477.250000</td>\n",
       "      <td>1.000000</td>\n",
       "    </tr>\n",
       "    <tr>\n",
       "      <th>50%</th>\n",
       "      <td>926.000000</td>\n",
       "      <td>1.000000</td>\n",
       "    </tr>\n",
       "    <tr>\n",
       "      <th>75%</th>\n",
       "      <td>1393.000000</td>\n",
       "      <td>1.000000</td>\n",
       "    </tr>\n",
       "    <tr>\n",
       "      <th>max</th>\n",
       "      <td>1834.000000</td>\n",
       "      <td>15.000000</td>\n",
       "    </tr>\n",
       "  </tbody>\n",
       "</table>\n",
       "</div>"
      ],
      "text/plain": [
       "          order_id     quantity\n",
       "count  4622.000000  4622.000000\n",
       "mean    927.254868     1.075725\n",
       "std     528.890796     0.410186\n",
       "min       1.000000     1.000000\n",
       "25%     477.250000     1.000000\n",
       "50%     926.000000     1.000000\n",
       "75%    1393.000000     1.000000\n",
       "max    1834.000000    15.000000"
      ]
     },
     "execution_count": 131,
     "metadata": {},
     "output_type": "execute_result"
    }
   ],
   "source": [
    "# Solution 2\n",
    "chipo.describe()\n"
   ]
  },
  {
   "cell_type": "markdown",
   "metadata": {},
   "source": [
    "### Step 6. What is the number of columns in the dataset?"
   ]
  },
  {
   "cell_type": "markdown",
   "metadata": {},
   "source": [
    "Using the method info() I can see that the number of columns is 5"
   ]
  },
  {
   "attachments": {
    "image.png": {
     "image/png": "[encoded data removed]"
    }
   },
   "cell_type": "markdown",
   "metadata": {},
   "source": [
    "![image.png](attachment:image.png)"
   ]
  },
  {
   "cell_type": "markdown",
   "metadata": {},
   "source": [
    "I wonder if there is another way to see the number :"
   ]
  },
  {
   "cell_type": "markdown",
   "metadata": {},
   "source": [
    "### The .columns attribute :"
   ]
  },
  {
   "cell_type": "markdown",
   "metadata": {},
   "source": [
    "Method 1: Using .columns attribute\n",
    "We can directly use the .columns attribute of the DataFrame to get a list of column names, and then find the length of this list to determine the number of columns."
   ]
  },
  {
   "cell_type": "code",
   "execution_count": 132,
   "metadata": {
    "collapsed": false
   },
   "outputs": [],
   "source": [
    "number_of_columns = len(chipo.columns)"
   ]
  },
  {
   "cell_type": "code",
   "execution_count": 133,
   "metadata": {},
   "outputs": [
    {
     "data": {
      "text/plain": [
       "5"
      ]
     },
     "execution_count": 133,
     "metadata": {},
     "output_type": "execute_result"
    }
   ],
   "source": [
    "number_of_columns"
   ]
  },
  {
   "cell_type": "markdown",
   "metadata": {},
   "source": [
    "### The .shape attribute:"
   ]
  },
  {
   "cell_type": "markdown",
   "metadata": {},
   "source": [
    "Method 2: Using shape attribute\n",
    "The shape attribute of a pandas DataFrame returns a tuple representing the dimensions of the DataFrame (rows, columns). You can directly access the second element of this tuple to get the number of columns. ( num_columns = chipo.shape[1]) --->The first (0) represents the number of rows."
   ]
  },
  {
   "cell_type": "code",
   "execution_count": 134,
   "metadata": {},
   "outputs": [],
   "source": [
    "# Use .shape attribute to get the number of columns (second element of the tuple)\n",
    "num_columns = chipo.shape"
   ]
  },
  {
   "cell_type": "code",
   "execution_count": 135,
   "metadata": {},
   "outputs": [
    {
     "data": {
      "text/plain": [
       "(4622, 5)"
      ]
     },
     "execution_count": 135,
     "metadata": {},
     "output_type": "execute_result"
    }
   ],
   "source": [
    "num_columns"
   ]
  },
  {
   "attachments": {
    "image.png": {
     "image/png": "[encoded data removed]"
    }
   },
   "cell_type": "markdown",
   "metadata": {},
   "source": [
    "![image.png](attachment:image.png)"
   ]
  },
  {
   "cell_type": "markdown",
   "metadata": {},
   "source": [
    "### Step 7. Print the name of all the columns."
   ]
  },
  {
   "cell_type": "code",
   "execution_count": 136,
   "metadata": {
    "collapsed": false
   },
   "outputs": [],
   "source": [
    "column_names = chipo.columns"
   ]
  },
  {
   "cell_type": "markdown",
   "metadata": {},
   "source": [
    "### 1. Printing column_names as an Index object:"
   ]
  },
  {
   "cell_type": "code",
   "execution_count": 137,
   "metadata": {},
   "outputs": [
    {
     "name": "stdout",
     "output_type": "stream",
     "text": [
      "Index(['order_id', 'quantity', 'item_name', 'choice_description',\n",
      "       'item_price'],\n",
      "      dtype='object')\n"
     ]
    }
   ],
   "source": [
    "print(column_names)"
   ]
  },
  {
   "cell_type": "markdown",
   "metadata": {},
   "source": [
    " ---> The output will display the column names encapsulated within an Index object"
   ]
  },
  {
   "cell_type": "markdown",
   "metadata": {},
   "source": [
    "### 2. Iterating through column_names and printing each column name:"
   ]
  },
  {
   "cell_type": "code",
   "execution_count": 138,
   "metadata": {},
   "outputs": [
    {
     "name": "stdout",
     "output_type": "stream",
     "text": [
      "order_id\n",
      "quantity\n",
      "item_name\n",
      "choice_description\n",
      "item_price\n"
     ]
    }
   ],
   "source": [
    "for column in column_names:\n",
    "    print(column)"
   ]
  },
  {
   "cell_type": "markdown",
   "metadata": {},
   "source": [
    "--->In this case, each column name (column) is printed individually in separate lines due to the for loop iterating over each element of column_names."
   ]
  },
  {
   "cell_type": "markdown",
   "metadata": {},
   "source": [
    "### Step 8. How is the dataset indexed?"
   ]
  },
  {
   "cell_type": "markdown",
   "metadata": {},
   "source": [
    "There several ways to see how the dataset is indexed"
   ]
  },
  {
   "cell_type": "markdown",
   "metadata": {},
   "source": [
    "### 1.Viewing the Index Information:\n",
    "\n"
   ]
  },
  {
   "cell_type": "code",
   "execution_count": 139,
   "metadata": {
    "collapsed": false
   },
   "outputs": [
    {
     "name": "stdout",
     "output_type": "stream",
     "text": [
      "RangeIndex(start=0, stop=4622, step=1)\n"
     ]
    }
   ],
   "source": [
    "print(chipo.index)"
   ]
  },
  {
   "cell_type": "markdown",
   "metadata": {},
   "source": [
    "This output indicates a default RangeIndex starting from 0 to 4622 (inclusive)."
   ]
  },
  {
   "cell_type": "markdown",
   "metadata": {},
   "source": [
    "### 2. Using .info() Method:"
   ]
  },
  {
   "cell_type": "code",
   "execution_count": 140,
   "metadata": {},
   "outputs": [
    {
     "name": "stdout",
     "output_type": "stream",
     "text": [
      "<class 'pandas.core.frame.DataFrame'>\n",
      "RangeIndex: 4622 entries, 0 to 4621\n",
      "Data columns (total 5 columns):\n",
      " #   Column              Non-Null Count  Dtype \n",
      "---  ------              --------------  ----- \n",
      " 0   order_id            4622 non-null   int64 \n",
      " 1   quantity            4622 non-null   int64 \n",
      " 2   item_name           4622 non-null   object\n",
      " 3   choice_description  3376 non-null   object\n",
      " 4   item_price          4622 non-null   object\n",
      "dtypes: int64(2), object(3)\n",
      "memory usage: 180.7+ KB\n",
      "None\n"
     ]
    }
   ],
   "source": [
    "print(chipo.info())"
   ]
  },
  {
   "cell_type": "markdown",
   "metadata": {},
   "source": [
    "### Step 9. Which was the most-ordered item? "
   ]
  },
  {
   "cell_type": "markdown",
   "metadata": {},
   "source": [
    "The most ordered item can be found from the quantity column.How can I find the one that is the most ordered one? Do I use max()"
   ]
  },
  {
   "cell_type": "code",
   "execution_count": 141,
   "metadata": {
    "collapsed": false
   },
   "outputs": [
    {
     "data": {
      "text/html": [
       "<div>\n",
       "<style scoped>\n",
       "    .dataframe tbody tr th:only-of-type {\n",
       "        vertical-align: middle;\n",
       "    }\n",
       "\n",
       "    .dataframe tbody tr th {\n",
       "        vertical-align: top;\n",
       "    }\n",
       "\n",
       "    .dataframe thead th {\n",
       "        text-align: right;\n",
       "    }\n",
       "</style>\n",
       "<table border=\"1\" class=\"dataframe\">\n",
       "  <thead>\n",
       "    <tr style=\"text-align: right;\">\n",
       "      <th></th>\n",
       "      <th>order_id</th>\n",
       "      <th>quantity</th>\n",
       "      <th>item_name</th>\n",
       "      <th>choice_description</th>\n",
       "      <th>item_price</th>\n",
       "    </tr>\n",
       "  </thead>\n",
       "  <tbody>\n",
       "    <tr>\n",
       "      <th>0</th>\n",
       "      <td>1</td>\n",
       "      <td>1</td>\n",
       "      <td>Chips and Fresh Tomato Salsa</td>\n",
       "      <td>NaN</td>\n",
       "      <td>$2.39</td>\n",
       "    </tr>\n",
       "    <tr>\n",
       "      <th>1</th>\n",
       "      <td>1</td>\n",
       "      <td>1</td>\n",
       "      <td>Izze</td>\n",
       "      <td>[Clementine]</td>\n",
       "      <td>$3.39</td>\n",
       "    </tr>\n",
       "    <tr>\n",
       "      <th>2</th>\n",
       "      <td>1</td>\n",
       "      <td>1</td>\n",
       "      <td>Nantucket Nectar</td>\n",
       "      <td>[Apple]</td>\n",
       "      <td>$3.39</td>\n",
       "    </tr>\n",
       "    <tr>\n",
       "      <th>3</th>\n",
       "      <td>1</td>\n",
       "      <td>1</td>\n",
       "      <td>Chips and Tomatillo-Green Chili Salsa</td>\n",
       "      <td>NaN</td>\n",
       "      <td>$2.39</td>\n",
       "    </tr>\n",
       "    <tr>\n",
       "      <th>4</th>\n",
       "      <td>2</td>\n",
       "      <td>2</td>\n",
       "      <td>Chicken Bowl</td>\n",
       "      <td>[Tomatillo-Red Chili Salsa (Hot), [Black Beans...</td>\n",
       "      <td>$16.98</td>\n",
       "    </tr>\n",
       "    <tr>\n",
       "      <th>...</th>\n",
       "      <td>...</td>\n",
       "      <td>...</td>\n",
       "      <td>...</td>\n",
       "      <td>...</td>\n",
       "      <td>...</td>\n",
       "    </tr>\n",
       "    <tr>\n",
       "      <th>4617</th>\n",
       "      <td>1833</td>\n",
       "      <td>1</td>\n",
       "      <td>Steak Burrito</td>\n",
       "      <td>[Fresh Tomato Salsa, [Rice, Black Beans, Sour ...</td>\n",
       "      <td>$11.75</td>\n",
       "    </tr>\n",
       "    <tr>\n",
       "      <th>4618</th>\n",
       "      <td>1833</td>\n",
       "      <td>1</td>\n",
       "      <td>Steak Burrito</td>\n",
       "      <td>[Fresh Tomato Salsa, [Rice, Sour Cream, Cheese...</td>\n",
       "      <td>$11.75</td>\n",
       "    </tr>\n",
       "    <tr>\n",
       "      <th>4619</th>\n",
       "      <td>1834</td>\n",
       "      <td>1</td>\n",
       "      <td>Chicken Salad Bowl</td>\n",
       "      <td>[Fresh Tomato Salsa, [Fajita Vegetables, Pinto...</td>\n",
       "      <td>$11.25</td>\n",
       "    </tr>\n",
       "    <tr>\n",
       "      <th>4620</th>\n",
       "      <td>1834</td>\n",
       "      <td>1</td>\n",
       "      <td>Chicken Salad Bowl</td>\n",
       "      <td>[Fresh Tomato Salsa, [Fajita Vegetables, Lettu...</td>\n",
       "      <td>$8.75</td>\n",
       "    </tr>\n",
       "    <tr>\n",
       "      <th>4621</th>\n",
       "      <td>1834</td>\n",
       "      <td>1</td>\n",
       "      <td>Chicken Salad Bowl</td>\n",
       "      <td>[Fresh Tomato Salsa, [Fajita Vegetables, Pinto...</td>\n",
       "      <td>$8.75</td>\n",
       "    </tr>\n",
       "  </tbody>\n",
       "</table>\n",
       "<p>4622 rows × 5 columns</p>\n",
       "</div>"
      ],
      "text/plain": [
       "      order_id  quantity                              item_name  \\\n",
       "0            1         1           Chips and Fresh Tomato Salsa   \n",
       "1            1         1                                   Izze   \n",
       "2            1         1                       Nantucket Nectar   \n",
       "3            1         1  Chips and Tomatillo-Green Chili Salsa   \n",
       "4            2         2                           Chicken Bowl   \n",
       "...        ...       ...                                    ...   \n",
       "4617      1833         1                          Steak Burrito   \n",
       "4618      1833         1                          Steak Burrito   \n",
       "4619      1834         1                     Chicken Salad Bowl   \n",
       "4620      1834         1                     Chicken Salad Bowl   \n",
       "4621      1834         1                     Chicken Salad Bowl   \n",
       "\n",
       "                                     choice_description item_price  \n",
       "0                                                   NaN     $2.39   \n",
       "1                                          [Clementine]     $3.39   \n",
       "2                                               [Apple]     $3.39   \n",
       "3                                                   NaN     $2.39   \n",
       "4     [Tomatillo-Red Chili Salsa (Hot), [Black Beans...    $16.98   \n",
       "...                                                 ...        ...  \n",
       "4617  [Fresh Tomato Salsa, [Rice, Black Beans, Sour ...    $11.75   \n",
       "4618  [Fresh Tomato Salsa, [Rice, Sour Cream, Cheese...    $11.75   \n",
       "4619  [Fresh Tomato Salsa, [Fajita Vegetables, Pinto...    $11.25   \n",
       "4620  [Fresh Tomato Salsa, [Fajita Vegetables, Lettu...     $8.75   \n",
       "4621  [Fresh Tomato Salsa, [Fajita Vegetables, Pinto...     $8.75   \n",
       "\n",
       "[4622 rows x 5 columns]"
      ]
     },
     "execution_count": 141,
     "metadata": {},
     "output_type": "execute_result"
    }
   ],
   "source": [
    "chipo"
   ]
  },
  {
   "cell_type": "markdown",
   "metadata": {},
   "source": [
    "We need columns \"ItemName\" and \"Quantity\".\n",
    "\n",
    "Step 1 --->Group by \"itemname\" then sum the quantity of each to see which one is most ordered"
   ]
  },
  {
   "cell_type": "code",
   "execution_count": 142,
   "metadata": {},
   "outputs": [],
   "source": [
    "item_quantities  = chipo.groupby('item_name')['quantity'].sum()"
   ]
  },
  {
   "cell_type": "code",
   "execution_count": 143,
   "metadata": {},
   "outputs": [
    {
     "data": {
      "text/plain": [
       "item_name\n",
       "6 Pack Soft Drink                         55\n",
       "Barbacoa Bowl                             66\n",
       "Barbacoa Burrito                          91\n",
       "Barbacoa Crispy Tacos                     12\n",
       "Barbacoa Salad Bowl                       10\n",
       "Barbacoa Soft Tacos                       25\n",
       "Bottled Water                            211\n",
       "Bowl                                       4\n",
       "Burrito                                    6\n",
       "Canned Soda                              126\n",
       "Canned Soft Drink                        351\n",
       "Carnitas Bowl                             71\n",
       "Carnitas Burrito                          60\n",
       "Carnitas Crispy Tacos                      8\n",
       "Carnitas Salad                             1\n",
       "Carnitas Salad Bowl                        6\n",
       "Carnitas Soft Tacos                       40\n",
       "Chicken Bowl                             761\n",
       "Chicken Burrito                          591\n",
       "Chicken Crispy Tacos                      50\n",
       "Chicken Salad                              9\n",
       "Chicken Salad Bowl                       123\n",
       "Chicken Soft Tacos                       120\n",
       "Chips                                    230\n",
       "Chips and Fresh Tomato Salsa             130\n",
       "Chips and Guacamole                      506\n",
       "Chips and Mild Fresh Tomato Salsa          1\n",
       "Chips and Roasted Chili Corn Salsa        23\n",
       "Chips and Roasted Chili-Corn Salsa        18\n",
       "Chips and Tomatillo Green Chili Salsa     45\n",
       "Chips and Tomatillo Red Chili Salsa       50\n",
       "Chips and Tomatillo-Green Chili Salsa     33\n",
       "Chips and Tomatillo-Red Chili Salsa       25\n",
       "Crispy Tacos                               2\n",
       "Izze                                      20\n",
       "Nantucket Nectar                          29\n",
       "Salad                                      2\n",
       "Side of Chips                            110\n",
       "Steak Bowl                               221\n",
       "Steak Burrito                            386\n",
       "Steak Crispy Tacos                        36\n",
       "Steak Salad                                4\n",
       "Steak Salad Bowl                          31\n",
       "Steak Soft Tacos                          56\n",
       "Veggie Bowl                               87\n",
       "Veggie Burrito                            97\n",
       "Veggie Crispy Tacos                        1\n",
       "Veggie Salad                               6\n",
       "Veggie Salad Bowl                         18\n",
       "Veggie Soft Tacos                          8\n",
       "Name: quantity, dtype: int64"
      ]
     },
     "execution_count": 143,
     "metadata": {},
     "output_type": "execute_result"
    }
   ],
   "source": [
    "item_quantities"
   ]
  },
  {
   "cell_type": "markdown",
   "metadata": {},
   "source": [
    "Now, we can find the most ordered item :"
   ]
  },
  {
   "cell_type": "code",
   "execution_count": 144,
   "metadata": {},
   "outputs": [
    {
     "name": "stdout",
     "output_type": "stream",
     "text": [
      "The most ordered item is : Chicken Bowl\n"
     ]
    }
   ],
   "source": [
    "most_ordered_item = item_quantities.idxmax()\n",
    "print(\"The most ordered item is :\", most_ordered_item)\n"
   ]
  },
  {
   "cell_type": "markdown",
   "metadata": {},
   "source": [
    "### Step 10. For the most-ordered item, how many items were ordered?"
   ]
  },
  {
   "cell_type": "code",
   "execution_count": 145,
   "metadata": {
    "collapsed": false
   },
   "outputs": [
    {
     "name": "stdout",
     "output_type": "stream",
     "text": [
      "The quantity of the most ordered item is:  761\n"
     ]
    }
   ],
   "source": [
    "max_quantity = item_quantities.max()\n",
    "print(\"The quantity of the most ordered item is: \", max_quantity)"
   ]
  },
  {
   "cell_type": "markdown",
   "metadata": {},
   "source": [
    "### Step 11. What was the most ordered item in the choice_description column?"
   ]
  },
  {
   "cell_type": "code",
   "execution_count": 146,
   "metadata": {},
   "outputs": [
    {
     "name": "stdout",
     "output_type": "stream",
     "text": [
      "<class 'pandas.core.frame.DataFrame'>\n",
      "RangeIndex: 4622 entries, 0 to 4621\n",
      "Data columns (total 5 columns):\n",
      " #   Column              Non-Null Count  Dtype \n",
      "---  ------              --------------  ----- \n",
      " 0   order_id            4622 non-null   int64 \n",
      " 1   quantity            4622 non-null   int64 \n",
      " 2   item_name           4622 non-null   object\n",
      " 3   choice_description  3376 non-null   object\n",
      " 4   item_price          4622 non-null   object\n",
      "dtypes: int64(2), object(3)\n",
      "memory usage: 180.7+ KB\n"
     ]
    }
   ],
   "source": [
    "chipo.info()"
   ]
  },
  {
   "cell_type": "markdown",
   "metadata": {},
   "source": [
    "From the choice description I notice there are 3376 values meaning there Nan values are present. I need to find a way to remove these NAN values before processing the column choice_description .\n",
    "\n",
    "### Data Cleaning and Preparation"
   ]
  },
  {
   "cell_type": "markdown",
   "metadata": {},
   "source": [
    "1. Handling NaN Values in choice_description\n",
    "Let's clean up the choice_description column by removing rows where it is NaN."
   ]
  },
  {
   "cell_type": "code",
   "execution_count": 147,
   "metadata": {},
   "outputs": [],
   "source": [
    "# Drop rows where \"choice description\" is Nan\n",
    "\n",
    "chipo_choice_column_cleaned = chipo.dropna(subset=\"choice_description\")"
   ]
  },
  {
   "cell_type": "markdown",
   "metadata": {},
   "source": [
    "#### 2 .After dropping the Nan values using dropna() method we need to reset Index to ensure it starts from ZERO"
   ]
  },
  {
   "cell_type": "code",
   "execution_count": 148,
   "metadata": {},
   "outputs": [],
   "source": [
    "chipo_choice_column_cleaned.reset_index(drop=True, inplace=True)"
   ]
  },
  {
   "cell_type": "markdown",
   "metadata": {},
   "source": [
    "#### 3. Display info to check the cleaned DataFrame:"
   ]
  },
  {
   "cell_type": "code",
   "execution_count": 149,
   "metadata": {},
   "outputs": [
    {
     "name": "stdout",
     "output_type": "stream",
     "text": [
      "Cleaned DataFrameinfo after the clean up :\n"
     ]
    },
    {
     "data": {
      "text/html": [
       "<div>\n",
       "<style scoped>\n",
       "    .dataframe tbody tr th:only-of-type {\n",
       "        vertical-align: middle;\n",
       "    }\n",
       "\n",
       "    .dataframe tbody tr th {\n",
       "        vertical-align: top;\n",
       "    }\n",
       "\n",
       "    .dataframe thead th {\n",
       "        text-align: right;\n",
       "    }\n",
       "</style>\n",
       "<table border=\"1\" class=\"dataframe\">\n",
       "  <thead>\n",
       "    <tr style=\"text-align: right;\">\n",
       "      <th></th>\n",
       "      <th>order_id</th>\n",
       "      <th>quantity</th>\n",
       "      <th>item_name</th>\n",
       "      <th>choice_description</th>\n",
       "      <th>item_price</th>\n",
       "    </tr>\n",
       "  </thead>\n",
       "  <tbody>\n",
       "    <tr>\n",
       "      <th>0</th>\n",
       "      <td>1</td>\n",
       "      <td>1</td>\n",
       "      <td>Izze</td>\n",
       "      <td>[Clementine]</td>\n",
       "      <td>$3.39</td>\n",
       "    </tr>\n",
       "    <tr>\n",
       "      <th>1</th>\n",
       "      <td>1</td>\n",
       "      <td>1</td>\n",
       "      <td>Nantucket Nectar</td>\n",
       "      <td>[Apple]</td>\n",
       "      <td>$3.39</td>\n",
       "    </tr>\n",
       "    <tr>\n",
       "      <th>2</th>\n",
       "      <td>2</td>\n",
       "      <td>2</td>\n",
       "      <td>Chicken Bowl</td>\n",
       "      <td>[Tomatillo-Red Chili Salsa (Hot), [Black Beans...</td>\n",
       "      <td>$16.98</td>\n",
       "    </tr>\n",
       "    <tr>\n",
       "      <th>3</th>\n",
       "      <td>3</td>\n",
       "      <td>1</td>\n",
       "      <td>Chicken Bowl</td>\n",
       "      <td>[Fresh Tomato Salsa (Mild), [Rice, Cheese, Sou...</td>\n",
       "      <td>$10.98</td>\n",
       "    </tr>\n",
       "    <tr>\n",
       "      <th>4</th>\n",
       "      <td>4</td>\n",
       "      <td>1</td>\n",
       "      <td>Steak Burrito</td>\n",
       "      <td>[Tomatillo Red Chili Salsa, [Fajita Vegetables...</td>\n",
       "      <td>$11.75</td>\n",
       "    </tr>\n",
       "    <tr>\n",
       "      <th>...</th>\n",
       "      <td>...</td>\n",
       "      <td>...</td>\n",
       "      <td>...</td>\n",
       "      <td>...</td>\n",
       "      <td>...</td>\n",
       "    </tr>\n",
       "    <tr>\n",
       "      <th>3371</th>\n",
       "      <td>1833</td>\n",
       "      <td>1</td>\n",
       "      <td>Steak Burrito</td>\n",
       "      <td>[Fresh Tomato Salsa, [Rice, Black Beans, Sour ...</td>\n",
       "      <td>$11.75</td>\n",
       "    </tr>\n",
       "    <tr>\n",
       "      <th>3372</th>\n",
       "      <td>1833</td>\n",
       "      <td>1</td>\n",
       "      <td>Steak Burrito</td>\n",
       "      <td>[Fresh Tomato Salsa, [Rice, Sour Cream, Cheese...</td>\n",
       "      <td>$11.75</td>\n",
       "    </tr>\n",
       "    <tr>\n",
       "      <th>3373</th>\n",
       "      <td>1834</td>\n",
       "      <td>1</td>\n",
       "      <td>Chicken Salad Bowl</td>\n",
       "      <td>[Fresh Tomato Salsa, [Fajita Vegetables, Pinto...</td>\n",
       "      <td>$11.25</td>\n",
       "    </tr>\n",
       "    <tr>\n",
       "      <th>3374</th>\n",
       "      <td>1834</td>\n",
       "      <td>1</td>\n",
       "      <td>Chicken Salad Bowl</td>\n",
       "      <td>[Fresh Tomato Salsa, [Fajita Vegetables, Lettu...</td>\n",
       "      <td>$8.75</td>\n",
       "    </tr>\n",
       "    <tr>\n",
       "      <th>3375</th>\n",
       "      <td>1834</td>\n",
       "      <td>1</td>\n",
       "      <td>Chicken Salad Bowl</td>\n",
       "      <td>[Fresh Tomato Salsa, [Fajita Vegetables, Pinto...</td>\n",
       "      <td>$8.75</td>\n",
       "    </tr>\n",
       "  </tbody>\n",
       "</table>\n",
       "<p>3376 rows × 5 columns</p>\n",
       "</div>"
      ],
      "text/plain": [
       "      order_id  quantity           item_name  \\\n",
       "0            1         1                Izze   \n",
       "1            1         1    Nantucket Nectar   \n",
       "2            2         2        Chicken Bowl   \n",
       "3            3         1        Chicken Bowl   \n",
       "4            4         1       Steak Burrito   \n",
       "...        ...       ...                 ...   \n",
       "3371      1833         1       Steak Burrito   \n",
       "3372      1833         1       Steak Burrito   \n",
       "3373      1834         1  Chicken Salad Bowl   \n",
       "3374      1834         1  Chicken Salad Bowl   \n",
       "3375      1834         1  Chicken Salad Bowl   \n",
       "\n",
       "                                     choice_description item_price  \n",
       "0                                          [Clementine]     $3.39   \n",
       "1                                               [Apple]     $3.39   \n",
       "2     [Tomatillo-Red Chili Salsa (Hot), [Black Beans...    $16.98   \n",
       "3     [Fresh Tomato Salsa (Mild), [Rice, Cheese, Sou...    $10.98   \n",
       "4     [Tomatillo Red Chili Salsa, [Fajita Vegetables...    $11.75   \n",
       "...                                                 ...        ...  \n",
       "3371  [Fresh Tomato Salsa, [Rice, Black Beans, Sour ...    $11.75   \n",
       "3372  [Fresh Tomato Salsa, [Rice, Sour Cream, Cheese...    $11.75   \n",
       "3373  [Fresh Tomato Salsa, [Fajita Vegetables, Pinto...    $11.25   \n",
       "3374  [Fresh Tomato Salsa, [Fajita Vegetables, Lettu...     $8.75   \n",
       "3375  [Fresh Tomato Salsa, [Fajita Vegetables, Pinto...     $8.75   \n",
       "\n",
       "[3376 rows x 5 columns]"
      ]
     },
     "execution_count": 149,
     "metadata": {},
     "output_type": "execute_result"
    }
   ],
   "source": [
    "print(\"Cleaned DataFrameinfo after the clean up :\")\n",
    "chipo_choice_column_cleaned"
   ]
  },
  {
   "cell_type": "markdown",
   "metadata": {},
   "source": [
    "Clean up seems to be successful since the rows were reduced from 4622 to 3376 meaning tha rows with Nan Values were exluded:"
   ]
  },
  {
   "cell_type": "markdown",
   "metadata": {},
   "source": [
    "After cleaning up NaN values from the choice_description column, we proceed with further processing:"
   ]
  },
  {
   "cell_type": "markdown",
   "metadata": {},
   "source": [
    "#### 4.Convert Values in choice_description to Strings and Strip Unwanted Characters\n",
    "\n",
    "- String Conversion ---> In order to ensure consistency and be able to perform string operations onto this column, because sometimes when we read files from a csv values that are in lists can be read as strings in Python. \n",
    "- Stripping Characters---> In the Dataset , the column \"choice_description\" contains values wrapped in [] ,need to remove this we use str.strip(\"[]\") "
   ]
  },
  {
   "cell_type": "code",
   "execution_count": 150,
   "metadata": {},
   "outputs": [
    {
     "name": "stderr",
     "output_type": "stream",
     "text": [
      "C:\\Users\\User\\AppData\\Local\\Temp\\ipykernel_15032\\1315256461.py:1: SettingWithCopyWarning: \n",
      "A value is trying to be set on a copy of a slice from a DataFrame.\n",
      "Try using .loc[row_indexer,col_indexer] = value instead\n",
      "\n",
      "See the caveats in the documentation: https://pandas.pydata.org/pandas-docs/stable/user_guide/indexing.html#returning-a-view-versus-a-copy\n",
      "  chipo_choice_column_cleaned[\"choice_description\"] = chipo_choice_column_cleaned[\"choice_description\"].astype(str).str.strip(\"[]\")\n"
     ]
    }
   ],
   "source": [
    "chipo_choice_column_cleaned[\"choice_description\"] = chipo_choice_column_cleaned[\"choice_description\"].astype(str).str.strip(\"[]\")"
   ]
  },
  {
   "cell_type": "markdown",
   "metadata": {},
   "source": [
    "#### 5.Next we remove empty strings that might have resulted from stripping :"
   ]
  },
  {
   "cell_type": "markdown",
   "metadata": {},
   "source": [
    "### Why do we do this?\n",
    "\n",
    "Data Integrity: During the cleaning process, some values might end up as empty strings (\"\") if they were originally just brackets with no content ([]). By filtering out these empty strings, we ensure that our dataset only contains meaningful data that can be further analyzed."
   ]
  },
  {
   "cell_type": "code",
   "execution_count": 151,
   "metadata": {},
   "outputs": [],
   "source": [
    "# Remove any empty strings that might have resulted from stripping\n",
    "chipo_choice_column_cleaned= chipo_choice_column_cleaned[chipo_choice_column_cleaned['choice_description'] != \"\"]\n"
   ]
  },
  {
   "cell_type": "markdown",
   "metadata": {},
   "source": [
    "#### Find the most ordered item :"
   ]
  },
  {
   "cell_type": "code",
   "execution_count": 152,
   "metadata": {},
   "outputs": [],
   "source": [
    "most_ordered_choice = chipo_choice_column_cleaned[\"choice_description\"].value_counts().idxmax()\n",
    "most_ordered_count = chipo_choice_column_cleaned['choice_description'].value_counts().max()"
   ]
  },
  {
   "cell_type": "code",
   "execution_count": 153,
   "metadata": {},
   "outputs": [
    {
     "name": "stdout",
     "output_type": "stream",
     "text": [
      "The most ordered item in the choice_description column is 'Diet Coke' with a total of 134 orders.\n"
     ]
    }
   ],
   "source": [
    " # Print the most ordered item\n",
    "print(f\"The most ordered item in the choice_description column is '{most_ordered_choice}' with a total of {most_ordered_count} orders.\")"
   ]
  },
  {
   "cell_type": "markdown",
   "metadata": {},
   "source": [
    "### Step 12. How many items were orderd in total?"
   ]
  },
  {
   "cell_type": "markdown",
   "metadata": {},
   "source": [
    "Maybe we should convert the column \"Quantity\" into a list first :"
   ]
  },
  {
   "cell_type": "code",
   "execution_count": 154,
   "metadata": {
    "collapsed": false
   },
   "outputs": [],
   "source": [
    "quantity_to_list = chipo_choice_column_cleaned[\"item_name\"].to_list()"
   ]
  },
  {
   "cell_type": "code",
   "execution_count": 155,
   "metadata": {},
   "outputs": [
    {
     "data": {
      "text/plain": [
       "['Izze',\n",
       " 'Nantucket Nectar',\n",
       " 'Chicken Bowl',\n",
       " 'Chicken Bowl',\n",
       " 'Steak Burrito',\n",
       " 'Steak Soft Tacos',\n",
       " 'Steak Burrito',\n",
       " 'Chicken Crispy Tacos',\n",
       " 'Chicken Soft Tacos',\n",
       " 'Chicken Bowl',\n",
       " 'Chicken Burrito',\n",
       " 'Chicken Burrito',\n",
       " 'Canned Soda',\n",
       " 'Chicken Bowl',\n",
       " 'Barbacoa Burrito',\n",
       " 'Nantucket Nectar',\n",
       " 'Chicken Burrito',\n",
       " 'Izze',\n",
       " 'Chicken Bowl',\n",
       " 'Carnitas Burrito',\n",
       " 'Canned Soda',\n",
       " 'Chicken Burrito',\n",
       " 'Steak Burrito',\n",
       " 'Carnitas Bowl',\n",
       " 'Chicken Soft Tacos',\n",
       " 'Chicken Soft Tacos',\n",
       " 'Barbacoa Bowl',\n",
       " 'Chicken Bowl',\n",
       " 'Steak Burrito',\n",
       " 'Chicken Salad Bowl',\n",
       " 'Chicken Burrito',\n",
       " 'Steak Burrito',\n",
       " 'Izze',\n",
       " 'Steak Burrito',\n",
       " 'Steak Burrito',\n",
       " 'Canned Soda',\n",
       " 'Chicken Burrito',\n",
       " 'Canned Soda',\n",
       " 'Steak Bowl',\n",
       " 'Barbacoa Soft Tacos',\n",
       " 'Veggie Burrito',\n",
       " 'Barbacoa Bowl',\n",
       " 'Steak Soft Tacos',\n",
       " 'Veggie Bowl',\n",
       " 'Chicken Burrito',\n",
       " 'Steak Burrito',\n",
       " 'Steak Soft Tacos',\n",
       " 'Izze',\n",
       " 'Steak Burrito',\n",
       " 'Chicken Burrito',\n",
       " 'Steak Burrito',\n",
       " 'Steak Burrito',\n",
       " 'Chicken Burrito',\n",
       " 'Chicken Soft Tacos',\n",
       " 'Chicken Bowl',\n",
       " 'Chicken Bowl',\n",
       " 'Chicken Soft Tacos',\n",
       " 'Barbacoa Burrito',\n",
       " 'Chicken Burrito',\n",
       " 'Chicken Burrito',\n",
       " 'Steak Soft Tacos',\n",
       " 'Veggie Bowl',\n",
       " 'Steak Bowl',\n",
       " 'Carnitas Burrito',\n",
       " 'Steak Bowl',\n",
       " 'Steak Bowl',\n",
       " 'Steak Crispy Tacos',\n",
       " 'Carnitas Burrito',\n",
       " 'Barbacoa Bowl',\n",
       " 'Carnitas Bowl',\n",
       " 'Chicken Burrito',\n",
       " 'Chicken Bowl',\n",
       " 'Steak Burrito',\n",
       " 'Steak Bowl',\n",
       " 'Veggie Burrito',\n",
       " 'Nantucket Nectar',\n",
       " 'Steak Burrito',\n",
       " 'Canned Soda',\n",
       " 'Steak Burrito',\n",
       " 'Chicken Bowl',\n",
       " 'Chicken Burrito',\n",
       " 'Barbacoa Bowl',\n",
       " 'Chicken Burrito',\n",
       " 'Canned Soda',\n",
       " 'Steak Soft Tacos',\n",
       " 'Chicken Burrito',\n",
       " 'Barbacoa Burrito',\n",
       " 'Chicken Bowl',\n",
       " 'Steak Burrito',\n",
       " 'Canned Soda',\n",
       " 'Barbacoa Bowl',\n",
       " 'Barbacoa Burrito',\n",
       " 'Chicken Burrito',\n",
       " 'Chicken Burrito',\n",
       " 'Chicken Salad Bowl',\n",
       " 'Barbacoa Bowl',\n",
       " 'Chicken Bowl',\n",
       " 'Chicken Bowl',\n",
       " 'Chicken Bowl',\n",
       " 'Veggie Bowl',\n",
       " 'Barbacoa Burrito',\n",
       " 'Carnitas Bowl',\n",
       " 'Steak Burrito',\n",
       " 'Steak Burrito',\n",
       " 'Chicken Burrito',\n",
       " 'Chicken Burrito',\n",
       " 'Chicken Bowl',\n",
       " 'Veggie Bowl',\n",
       " 'Steak Burrito',\n",
       " 'Chicken Burrito',\n",
       " 'Chicken Bowl',\n",
       " 'Chicken Burrito',\n",
       " 'Canned Soda',\n",
       " 'Carnitas Bowl',\n",
       " 'Veggie Bowl',\n",
       " 'Chicken Burrito',\n",
       " 'Barbacoa Crispy Tacos',\n",
       " 'Chicken Burrito',\n",
       " 'Chicken Burrito',\n",
       " 'Canned Soda',\n",
       " 'Chicken Burrito',\n",
       " 'Nantucket Nectar',\n",
       " 'Chicken Burrito',\n",
       " 'Steak Soft Tacos',\n",
       " 'Chicken Bowl',\n",
       " 'Steak Burrito',\n",
       " 'Chicken Burrito',\n",
       " 'Canned Soda',\n",
       " 'Canned Soda',\n",
       " 'Barbacoa Soft Tacos',\n",
       " 'Chicken Bowl',\n",
       " 'Steak Soft Tacos',\n",
       " 'Veggie Salad Bowl',\n",
       " 'Steak Bowl',\n",
       " 'Chicken Burrito',\n",
       " 'Chicken Burrito',\n",
       " 'Steak Burrito',\n",
       " 'Veggie Bowl',\n",
       " 'Chicken Bowl',\n",
       " 'Canned Soda',\n",
       " 'Steak Burrito',\n",
       " 'Chicken Burrito',\n",
       " 'Chicken Bowl',\n",
       " 'Canned Soda',\n",
       " 'Chicken Burrito',\n",
       " 'Chicken Burrito',\n",
       " 'Chicken Burrito',\n",
       " 'Nantucket Nectar',\n",
       " 'Chicken Bowl',\n",
       " 'Steak Bowl',\n",
       " 'Chicken Bowl',\n",
       " 'Veggie Bowl',\n",
       " 'Chicken Bowl',\n",
       " 'Chicken Salad Bowl',\n",
       " 'Steak Bowl',\n",
       " 'Chicken Burrito',\n",
       " 'Chicken Crispy Tacos',\n",
       " 'Chicken Bowl',\n",
       " 'Barbacoa Bowl',\n",
       " 'Chicken Bowl',\n",
       " 'Barbacoa Burrito',\n",
       " 'Chicken Bowl',\n",
       " 'Veggie Burrito',\n",
       " 'Steak Burrito',\n",
       " 'Canned Soda',\n",
       " 'Steak Burrito',\n",
       " 'Chicken Bowl',\n",
       " 'Steak Burrito',\n",
       " 'Steak Burrito',\n",
       " 'Carnitas Soft Tacos',\n",
       " 'Steak Burrito',\n",
       " 'Carnitas Burrito',\n",
       " 'Chicken Burrito',\n",
       " 'Chicken Burrito',\n",
       " 'Steak Bowl',\n",
       " 'Chicken Burrito',\n",
       " 'Steak Burrito',\n",
       " 'Canned Soda',\n",
       " 'Canned Soda',\n",
       " 'Canned Soda',\n",
       " 'Barbacoa Burrito',\n",
       " 'Chicken Salad',\n",
       " 'Canned Soda',\n",
       " 'Chicken Bowl',\n",
       " 'Veggie Bowl',\n",
       " 'Barbacoa Bowl',\n",
       " 'Barbacoa Crispy Tacos',\n",
       " 'Chicken Salad Bowl',\n",
       " 'Chicken Bowl',\n",
       " 'Steak Burrito',\n",
       " 'Steak Bowl',\n",
       " 'Steak Bowl',\n",
       " 'Canned Soda',\n",
       " 'Steak Bowl',\n",
       " 'Canned Soft Drink',\n",
       " 'Steak Burrito',\n",
       " 'Steak Soft Tacos',\n",
       " 'Barbacoa Soft Tacos',\n",
       " 'Chicken Burrito',\n",
       " 'Chicken Burrito',\n",
       " 'Chicken Burrito',\n",
       " 'Chicken Burrito',\n",
       " 'Chicken Burrito',\n",
       " 'Steak Soft Tacos',\n",
       " 'Canned Soda',\n",
       " 'Steak Salad Bowl',\n",
       " 'Chicken Bowl',\n",
       " 'Chicken Bowl',\n",
       " 'Steak Bowl',\n",
       " 'Steak Bowl',\n",
       " 'Veggie Bowl',\n",
       " 'Chicken Burrito',\n",
       " 'Chicken Bowl',\n",
       " 'Chicken Bowl',\n",
       " 'Canned Soft Drink',\n",
       " 'Steak Soft Tacos',\n",
       " 'Veggie Salad Bowl',\n",
       " 'Steak Burrito',\n",
       " 'Steak Burrito',\n",
       " '6 Pack Soft Drink',\n",
       " 'Steak Soft Tacos',\n",
       " 'Chicken Bowl',\n",
       " 'Chicken Bowl',\n",
       " 'Chicken Bowl',\n",
       " 'Steak Bowl',\n",
       " 'Chicken Burrito',\n",
       " 'Chicken Burrito',\n",
       " 'Chicken Bowl',\n",
       " 'Chicken Soft Tacos',\n",
       " 'Steak Burrito',\n",
       " 'Chicken Salad Bowl',\n",
       " 'Chicken Burrito',\n",
       " 'Canned Soda',\n",
       " 'Chicken Bowl',\n",
       " 'Canned Soft Drink',\n",
       " 'Steak Burrito',\n",
       " 'Chicken Burrito',\n",
       " 'Chicken Soft Tacos',\n",
       " 'Steak Burrito',\n",
       " 'Chicken Bowl',\n",
       " 'Chicken Burrito',\n",
       " 'Chicken Soft Tacos',\n",
       " 'Chicken Soft Tacos',\n",
       " 'Barbacoa Burrito',\n",
       " 'Steak Burrito',\n",
       " 'Steak Bowl',\n",
       " 'Canned Soft Drink',\n",
       " 'Chicken Burrito',\n",
       " 'Chicken Burrito',\n",
       " '6 Pack Soft Drink',\n",
       " 'Steak Soft Tacos',\n",
       " 'Chicken Soft Tacos',\n",
       " 'Canned Soft Drink',\n",
       " 'Canned Soft Drink',\n",
       " 'Chicken Bowl',\n",
       " 'Canned Soda',\n",
       " 'Chicken Burrito',\n",
       " 'Canned Soda',\n",
       " 'Steak Burrito',\n",
       " 'Chicken Soft Tacos',\n",
       " 'Chicken Burrito',\n",
       " '6 Pack Soft Drink',\n",
       " 'Steak Burrito',\n",
       " 'Izze',\n",
       " 'Izze',\n",
       " 'Steak Burrito',\n",
       " 'Chicken Burrito',\n",
       " 'Chicken Burrito',\n",
       " 'Chicken Crispy Tacos',\n",
       " 'Chicken Burrito',\n",
       " 'Canned Soft Drink',\n",
       " 'Steak Burrito',\n",
       " 'Canned Soda',\n",
       " 'Chicken Bowl',\n",
       " 'Chicken Burrito',\n",
       " 'Carnitas Burrito',\n",
       " 'Barbacoa Burrito',\n",
       " 'Steak Burrito',\n",
       " 'Canned Soda',\n",
       " 'Chicken Bowl',\n",
       " 'Canned Soft Drink',\n",
       " 'Canned Soft Drink',\n",
       " 'Chicken Burrito',\n",
       " 'Steak Burrito',\n",
       " 'Barbacoa Burrito',\n",
       " 'Steak Bowl',\n",
       " '6 Pack Soft Drink',\n",
       " 'Chicken Burrito',\n",
       " 'Steak Soft Tacos',\n",
       " 'Chicken Burrito',\n",
       " 'Canned Soft Drink',\n",
       " 'Veggie Burrito',\n",
       " 'Chicken Burrito',\n",
       " 'Barbacoa Burrito',\n",
       " 'Chicken Burrito',\n",
       " 'Carnitas Bowl',\n",
       " 'Chicken Burrito',\n",
       " 'Canned Soft Drink',\n",
       " 'Steak Burrito',\n",
       " 'Canned Soft Drink',\n",
       " 'Steak Burrito',\n",
       " 'Carnitas Soft Tacos',\n",
       " 'Chicken Bowl',\n",
       " 'Chicken Bowl',\n",
       " 'Canned Soft Drink',\n",
       " 'Chicken Bowl',\n",
       " 'Steak Bowl',\n",
       " 'Canned Soda',\n",
       " 'Chicken Bowl',\n",
       " '6 Pack Soft Drink',\n",
       " 'Barbacoa Bowl',\n",
       " 'Chicken Soft Tacos',\n",
       " 'Steak Burrito',\n",
       " 'Carnitas Burrito',\n",
       " 'Chicken Bowl',\n",
       " 'Chicken Burrito',\n",
       " 'Chicken Soft Tacos',\n",
       " 'Chicken Soft Tacos',\n",
       " 'Steak Bowl',\n",
       " 'Barbacoa Crispy Tacos',\n",
       " 'Izze',\n",
       " 'Steak Burrito',\n",
       " 'Carnitas Bowl',\n",
       " 'Canned Soda',\n",
       " 'Veggie Burrito',\n",
       " 'Nantucket Nectar',\n",
       " 'Steak Crispy Tacos',\n",
       " 'Canned Soda',\n",
       " 'Steak Burrito',\n",
       " 'Chicken Soft Tacos',\n",
       " 'Chicken Burrito',\n",
       " 'Steak Bowl',\n",
       " 'Bowl',\n",
       " 'Chicken Burrito',\n",
       " 'Steak Burrito',\n",
       " 'Chicken Burrito',\n",
       " 'Chicken Bowl',\n",
       " 'Barbacoa Burrito',\n",
       " 'Chicken Burrito',\n",
       " 'Chicken Burrito',\n",
       " 'Carnitas Soft Tacos',\n",
       " 'Chicken Bowl',\n",
       " 'Veggie Salad Bowl',\n",
       " 'Chicken Bowl',\n",
       " 'Chicken Burrito',\n",
       " 'Canned Soft Drink',\n",
       " 'Chicken Bowl',\n",
       " 'Carnitas Burrito',\n",
       " 'Chicken Burrito',\n",
       " 'Chicken Bowl',\n",
       " 'Chicken Bowl',\n",
       " 'Veggie Burrito',\n",
       " 'Veggie Burrito',\n",
       " 'Barbacoa Bowl',\n",
       " 'Canned Soda',\n",
       " 'Chicken Soft Tacos',\n",
       " 'Chicken Burrito',\n",
       " 'Carnitas Burrito',\n",
       " 'Veggie Burrito',\n",
       " 'Chicken Bowl',\n",
       " 'Steak Burrito',\n",
       " 'Chicken Burrito',\n",
       " 'Chicken Bowl',\n",
       " 'Chicken Bowl',\n",
       " 'Barbacoa Crispy Tacos',\n",
       " 'Chicken Burrito',\n",
       " 'Chicken Burrito',\n",
       " 'Chicken Bowl',\n",
       " 'Chicken Bowl',\n",
       " 'Steak Bowl',\n",
       " 'Canned Soft Drink',\n",
       " 'Steak Soft Tacos',\n",
       " 'Veggie Salad Bowl',\n",
       " 'Veggie Burrito',\n",
       " 'Steak Bowl',\n",
       " 'Steak Bowl',\n",
       " 'Chicken Bowl',\n",
       " 'Barbacoa Burrito',\n",
       " 'Steak Burrito',\n",
       " 'Chicken Soft Tacos',\n",
       " 'Canned Soft Drink',\n",
       " 'Carnitas Bowl',\n",
       " 'Canned Soft Drink',\n",
       " 'Steak Burrito',\n",
       " 'Chicken Bowl',\n",
       " 'Burrito',\n",
       " 'Burrito',\n",
       " 'Veggie Bowl',\n",
       " 'Canned Soft Drink',\n",
       " 'Veggie Bowl',\n",
       " 'Chicken Burrito',\n",
       " 'Burrito',\n",
       " 'Crispy Tacos',\n",
       " 'Crispy Tacos',\n",
       " 'Steak Burrito',\n",
       " 'Steak Bowl',\n",
       " 'Chicken Salad Bowl',\n",
       " 'Chicken Bowl',\n",
       " 'Chicken Salad Bowl',\n",
       " 'Chicken Salad Bowl',\n",
       " 'Veggie Bowl',\n",
       " 'Chicken Burrito',\n",
       " 'Chicken Burrito',\n",
       " 'Steak Burrito',\n",
       " 'Veggie Burrito',\n",
       " 'Carnitas Bowl',\n",
       " 'Steak Burrito',\n",
       " 'Canned Soft Drink',\n",
       " 'Chicken Bowl',\n",
       " 'Barbacoa Burrito',\n",
       " 'Chicken Bowl',\n",
       " 'Chicken Bowl',\n",
       " 'Chicken Bowl',\n",
       " 'Steak Burrito',\n",
       " 'Chicken Burrito',\n",
       " 'Steak Burrito',\n",
       " '6 Pack Soft Drink',\n",
       " 'Carnitas Crispy Tacos',\n",
       " 'Veggie Bowl',\n",
       " 'Chicken Bowl',\n",
       " 'Barbacoa Burrito',\n",
       " 'Steak Bowl',\n",
       " 'Barbacoa Burrito',\n",
       " 'Steak Burrito',\n",
       " 'Chicken Burrito',\n",
       " 'Carnitas Soft Tacos',\n",
       " 'Canned Soft Drink',\n",
       " 'Canned Soft Drink',\n",
       " 'Chicken Salad Bowl',\n",
       " 'Chicken Burrito',\n",
       " 'Steak Soft Tacos',\n",
       " 'Steak Burrito',\n",
       " 'Steak Burrito',\n",
       " 'Barbacoa Burrito',\n",
       " 'Barbacoa Burrito',\n",
       " 'Steak Burrito',\n",
       " 'Chicken Soft Tacos',\n",
       " 'Izze',\n",
       " 'Izze',\n",
       " 'Steak Crispy Tacos',\n",
       " 'Steak Burrito',\n",
       " 'Chicken Bowl',\n",
       " 'Chicken Salad Bowl',\n",
       " 'Barbacoa Burrito',\n",
       " 'Chicken Burrito',\n",
       " 'Chicken Burrito',\n",
       " 'Carnitas Soft Tacos',\n",
       " 'Chicken Salad Bowl',\n",
       " 'Barbacoa Bowl',\n",
       " 'Steak Bowl',\n",
       " 'Chicken Bowl',\n",
       " 'Chicken Crispy Tacos',\n",
       " 'Chicken Burrito',\n",
       " 'Chicken Crispy Tacos',\n",
       " 'Nantucket Nectar',\n",
       " 'Barbacoa Burrito',\n",
       " 'Chicken Bowl',\n",
       " 'Steak Salad Bowl',\n",
       " 'Steak Salad Bowl',\n",
       " 'Chicken Burrito',\n",
       " 'Canned Soft Drink',\n",
       " 'Barbacoa Soft Tacos',\n",
       " 'Chicken Burrito',\n",
       " 'Steak Salad Bowl',\n",
       " 'Chicken Bowl',\n",
       " 'Barbacoa Burrito',\n",
       " 'Canned Soft Drink',\n",
       " 'Veggie Bowl',\n",
       " 'Chicken Burrito',\n",
       " 'Canned Soda',\n",
       " 'Veggie Burrito',\n",
       " 'Chicken Bowl',\n",
       " 'Carnitas Burrito',\n",
       " 'Steak Burrito',\n",
       " 'Chicken Soft Tacos',\n",
       " 'Veggie Burrito',\n",
       " 'Chicken Salad Bowl',\n",
       " 'Chicken Burrito',\n",
       " 'Canned Soft Drink',\n",
       " 'Chicken Burrito',\n",
       " 'Chicken Bowl',\n",
       " 'Steak Burrito',\n",
       " '6 Pack Soft Drink',\n",
       " 'Chicken Burrito',\n",
       " 'Chicken Soft Tacos',\n",
       " 'Veggie Bowl',\n",
       " 'Steak Burrito',\n",
       " 'Canned Soda',\n",
       " 'Chicken Bowl',\n",
       " 'Steak Burrito',\n",
       " 'Canned Soft Drink',\n",
       " 'Carnitas Burrito',\n",
       " 'Chicken Bowl',\n",
       " 'Chicken Burrito',\n",
       " 'Steak Burrito',\n",
       " 'Chicken Burrito',\n",
       " 'Chicken Bowl',\n",
       " 'Veggie Burrito',\n",
       " 'Steak Salad',\n",
       " 'Steak Bowl',\n",
       " 'Carnitas Soft Tacos',\n",
       " 'Chicken Bowl',\n",
       " 'Canned Soft Drink',\n",
       " 'Chicken Burrito',\n",
       " 'Bowl',\n",
       " 'Burrito',\n",
       " 'Veggie Bowl',\n",
       " 'Steak Bowl',\n",
       " 'Chicken Burrito',\n",
       " 'Canned Soft Drink',\n",
       " 'Steak Burrito',\n",
       " 'Canned Soft Drink',\n",
       " 'Chicken Burrito',\n",
       " 'Chicken Bowl',\n",
       " 'Canned Soft Drink',\n",
       " 'Steak Bowl',\n",
       " 'Carnitas Burrito',\n",
       " 'Chicken Salad Bowl',\n",
       " 'Canned Soft Drink',\n",
       " 'Steak Burrito',\n",
       " 'Chicken Soft Tacos',\n",
       " 'Canned Soda',\n",
       " 'Chicken Burrito',\n",
       " 'Canned Soda',\n",
       " 'Chicken Salad Bowl',\n",
       " 'Canned Soft Drink',\n",
       " 'Chicken Bowl',\n",
       " 'Steak Burrito',\n",
       " 'Canned Soft Drink',\n",
       " 'Veggie Burrito',\n",
       " 'Steak Burrito',\n",
       " 'Veggie Burrito',\n",
       " 'Chicken Burrito',\n",
       " 'Canned Soft Drink',\n",
       " 'Barbacoa Burrito',\n",
       " 'Chicken Bowl',\n",
       " 'Canned Soft Drink',\n",
       " '6 Pack Soft Drink',\n",
       " 'Chicken Bowl',\n",
       " 'Barbacoa Burrito',\n",
       " 'Chicken Burrito',\n",
       " 'Chicken Burrito',\n",
       " 'Steak Burrito',\n",
       " 'Steak Burrito',\n",
       " 'Steak Crispy Tacos',\n",
       " 'Veggie Burrito',\n",
       " 'Chicken Bowl',\n",
       " 'Chicken Burrito',\n",
       " 'Canned Soft Drink',\n",
       " 'Steak Burrito',\n",
       " 'Veggie Bowl',\n",
       " 'Veggie Soft Tacos',\n",
       " 'Chicken Burrito',\n",
       " 'Canned Soft Drink',\n",
       " 'Steak Burrito',\n",
       " 'Barbacoa Burrito',\n",
       " '6 Pack Soft Drink',\n",
       " 'Veggie Burrito',\n",
       " 'Chicken Burrito',\n",
       " 'Chicken Burrito',\n",
       " 'Steak Salad Bowl',\n",
       " 'Barbacoa Bowl',\n",
       " 'Steak Salad',\n",
       " 'Steak Bowl',\n",
       " 'Carnitas Soft Tacos',\n",
       " 'Barbacoa Burrito',\n",
       " 'Steak Bowl',\n",
       " 'Burrito',\n",
       " 'Burrito',\n",
       " 'Veggie Burrito',\n",
       " 'Chicken Salad Bowl',\n",
       " 'Barbacoa Crispy Tacos',\n",
       " 'Chicken Bowl',\n",
       " 'Canned Soft Drink',\n",
       " 'Carnitas Burrito',\n",
       " 'Chicken Crispy Tacos',\n",
       " 'Canned Soft Drink',\n",
       " 'Veggie Burrito',\n",
       " 'Chicken Bowl',\n",
       " 'Chicken Bowl',\n",
       " 'Steak Crispy Tacos',\n",
       " 'Chicken Bowl',\n",
       " 'Canned Soft Drink',\n",
       " 'Chicken Burrito',\n",
       " 'Canned Soda',\n",
       " 'Veggie Soft Tacos',\n",
       " 'Canned Soft Drink',\n",
       " 'Steak Bowl',\n",
       " 'Canned Soft Drink',\n",
       " 'Chicken Burrito',\n",
       " 'Canned Soft Drink',\n",
       " 'Chicken Burrito',\n",
       " 'Canned Soft Drink',\n",
       " 'Chicken Burrito',\n",
       " 'Chicken Bowl',\n",
       " 'Chicken Bowl',\n",
       " 'Chicken Burrito',\n",
       " 'Veggie Burrito',\n",
       " 'Chicken Bowl',\n",
       " 'Chicken Burrito',\n",
       " 'Barbacoa Bowl',\n",
       " 'Barbacoa Bowl',\n",
       " 'Chicken Bowl',\n",
       " 'Steak Burrito',\n",
       " 'Canned Soda',\n",
       " 'Steak Burrito',\n",
       " 'Chicken Burrito',\n",
       " 'Steak Burrito',\n",
       " 'Veggie Burrito',\n",
       " 'Chicken Burrito',\n",
       " 'Chicken Bowl',\n",
       " 'Chicken Salad Bowl',\n",
       " 'Chicken Bowl',\n",
       " 'Carnitas Soft Tacos',\n",
       " 'Canned Soda',\n",
       " 'Carnitas Bowl',\n",
       " 'Chicken Burrito',\n",
       " 'Steak Bowl',\n",
       " 'Veggie Burrito',\n",
       " 'Barbacoa Crispy Tacos',\n",
       " 'Chicken Crispy Tacos',\n",
       " 'Veggie Bowl',\n",
       " 'Veggie Bowl',\n",
       " 'Carnitas Bowl',\n",
       " 'Chicken Burrito',\n",
       " 'Carnitas Burrito',\n",
       " 'Chicken Burrito',\n",
       " 'Chicken Bowl',\n",
       " 'Barbacoa Bowl',\n",
       " 'Steak Bowl',\n",
       " 'Veggie Bowl',\n",
       " 'Chicken Bowl',\n",
       " 'Veggie Bowl',\n",
       " 'Veggie Burrito',\n",
       " 'Chicken Bowl',\n",
       " 'Canned Soft Drink',\n",
       " 'Carnitas Bowl',\n",
       " 'Barbacoa Burrito',\n",
       " 'Barbacoa Burrito',\n",
       " 'Chicken Burrito',\n",
       " 'Barbacoa Soft Tacos',\n",
       " 'Chicken Burrito',\n",
       " 'Barbacoa Burrito',\n",
       " 'Steak Burrito',\n",
       " 'Steak Burrito',\n",
       " 'Steak Burrito',\n",
       " 'Steak Burrito',\n",
       " 'Chicken Salad Bowl',\n",
       " 'Carnitas Burrito',\n",
       " 'Chicken Crispy Tacos',\n",
       " 'Canned Soft Drink',\n",
       " 'Chicken Bowl',\n",
       " 'Canned Soft Drink',\n",
       " 'Chicken Bowl',\n",
       " 'Chicken Soft Tacos',\n",
       " 'Canned Soft Drink',\n",
       " 'Veggie Burrito',\n",
       " 'Chicken Soft Tacos',\n",
       " 'Chicken Bowl',\n",
       " 'Barbacoa Burrito',\n",
       " '6 Pack Soft Drink',\n",
       " 'Chicken Bowl',\n",
       " 'Chicken Soft Tacos',\n",
       " 'Canned Soft Drink',\n",
       " 'Chicken Crispy Tacos',\n",
       " 'Steak Burrito',\n",
       " 'Veggie Bowl',\n",
       " 'Barbacoa Burrito',\n",
       " 'Chicken Bowl',\n",
       " 'Veggie Burrito',\n",
       " 'Chicken Bowl',\n",
       " 'Steak Salad',\n",
       " 'Chicken Burrito',\n",
       " 'Steak Burrito',\n",
       " 'Steak Bowl',\n",
       " 'Chicken Bowl',\n",
       " 'Veggie Bowl',\n",
       " 'Barbacoa Burrito',\n",
       " 'Canned Soft Drink',\n",
       " 'Steak Bowl',\n",
       " 'Steak Burrito',\n",
       " 'Steak Burrito',\n",
       " 'Canned Soda',\n",
       " 'Steak Bowl',\n",
       " 'Steak Burrito',\n",
       " 'Chicken Burrito',\n",
       " 'Steak Burrito',\n",
       " 'Chicken Bowl',\n",
       " 'Canned Soft Drink',\n",
       " 'Steak Crispy Tacos',\n",
       " 'Barbacoa Bowl',\n",
       " 'Chicken Bowl',\n",
       " 'Chicken Soft Tacos',\n",
       " 'Chicken Soft Tacos',\n",
       " 'Nantucket Nectar',\n",
       " 'Steak Bowl',\n",
       " 'Chicken Bowl',\n",
       " 'Chicken Bowl',\n",
       " 'Veggie Burrito',\n",
       " 'Chicken Bowl',\n",
       " 'Chicken Bowl',\n",
       " 'Veggie Bowl',\n",
       " 'Chicken Bowl',\n",
       " 'Canned Soft Drink',\n",
       " 'Chicken Burrito',\n",
       " 'Steak Burrito',\n",
       " 'Steak Burrito',\n",
       " 'Steak Burrito',\n",
       " 'Chicken Bowl',\n",
       " 'Chicken Crispy Tacos',\n",
       " 'Chicken Bowl',\n",
       " 'Chicken Burrito',\n",
       " 'Steak Bowl',\n",
       " 'Chicken Burrito',\n",
       " 'Canned Soda',\n",
       " 'Steak Burrito',\n",
       " 'Canned Soda',\n",
       " 'Carnitas Burrito',\n",
       " 'Veggie Salad Bowl',\n",
       " 'Steak Soft Tacos',\n",
       " 'Canned Soft Drink',\n",
       " 'Canned Soft Drink',\n",
       " 'Chicken Burrito',\n",
       " 'Chicken Soft Tacos',\n",
       " 'Steak Burrito',\n",
       " 'Steak Soft Tacos',\n",
       " 'Chicken Soft Tacos',\n",
       " 'Veggie Burrito',\n",
       " 'Veggie Burrito',\n",
       " 'Carnitas Burrito',\n",
       " 'Chicken Bowl',\n",
       " 'Chicken Bowl',\n",
       " 'Chicken Bowl',\n",
       " 'Chicken Bowl',\n",
       " 'Chicken Bowl',\n",
       " 'Barbacoa Burrito',\n",
       " 'Chicken Burrito',\n",
       " 'Carnitas Bowl',\n",
       " 'Chicken Burrito',\n",
       " 'Canned Soft Drink',\n",
       " 'Barbacoa Soft Tacos',\n",
       " 'Canned Soft Drink',\n",
       " 'Chicken Burrito',\n",
       " 'Steak Burrito',\n",
       " 'Canned Soft Drink',\n",
       " 'Chicken Bowl',\n",
       " 'Chicken Bowl',\n",
       " 'Chicken Bowl',\n",
       " 'Chicken Bowl',\n",
       " 'Chicken Burrito',\n",
       " 'Canned Soft Drink',\n",
       " 'Chicken Soft Tacos',\n",
       " 'Chicken Bowl',\n",
       " 'Chicken Bowl',\n",
       " 'Chicken Bowl',\n",
       " 'Chicken Crispy Tacos',\n",
       " 'Canned Soft Drink',\n",
       " 'Carnitas Crispy Tacos',\n",
       " 'Chicken Burrito',\n",
       " 'Steak Bowl',\n",
       " 'Steak Burrito',\n",
       " 'Chicken Bowl',\n",
       " 'Steak Burrito',\n",
       " 'Chicken Bowl',\n",
       " 'Barbacoa Crispy Tacos',\n",
       " 'Steak Crispy Tacos',\n",
       " 'Chicken Burrito',\n",
       " 'Chicken Bowl',\n",
       " 'Steak Burrito',\n",
       " '6 Pack Soft Drink',\n",
       " 'Chicken Crispy Tacos',\n",
       " 'Chicken Burrito',\n",
       " 'Chicken Burrito',\n",
       " 'Canned Soda',\n",
       " 'Barbacoa Bowl',\n",
       " 'Chicken Bowl',\n",
       " 'Canned Soft Drink',\n",
       " 'Veggie Burrito',\n",
       " 'Steak Bowl',\n",
       " 'Steak Bowl',\n",
       " 'Steak Bowl',\n",
       " 'Chicken Bowl',\n",
       " 'Canned Soft Drink',\n",
       " 'Chicken Burrito',\n",
       " 'Canned Soft Drink',\n",
       " 'Chicken Burrito',\n",
       " 'Chicken Burrito',\n",
       " '6 Pack Soft Drink',\n",
       " 'Steak Bowl',\n",
       " 'Chicken Burrito',\n",
       " 'Barbacoa Burrito',\n",
       " 'Chicken Burrito',\n",
       " 'Canned Soda',\n",
       " 'Chicken Bowl',\n",
       " 'Izze',\n",
       " 'Chicken Bowl',\n",
       " 'Canned Soft Drink',\n",
       " 'Carnitas Burrito',\n",
       " 'Chicken Burrito',\n",
       " 'Chicken Salad',\n",
       " 'Chicken Bowl',\n",
       " 'Barbacoa Bowl',\n",
       " 'Steak Burrito',\n",
       " 'Steak Burrito',\n",
       " 'Steak Burrito',\n",
       " 'Chicken Bowl',\n",
       " 'Veggie Burrito',\n",
       " 'Steak Bowl',\n",
       " 'Chicken Bowl',\n",
       " 'Steak Bowl',\n",
       " 'Steak Burrito',\n",
       " 'Chicken Burrito',\n",
       " 'Canned Soft Drink',\n",
       " 'Chicken Bowl',\n",
       " 'Canned Soft Drink',\n",
       " 'Canned Soda',\n",
       " 'Canned Soda',\n",
       " 'Steak Burrito',\n",
       " 'Chicken Soft Tacos',\n",
       " 'Steak Bowl',\n",
       " 'Carnitas Burrito',\n",
       " 'Canned Soft Drink',\n",
       " 'Chicken Burrito',\n",
       " 'Barbacoa Burrito',\n",
       " 'Steak Burrito',\n",
       " 'Chicken Bowl',\n",
       " 'Veggie Burrito',\n",
       " 'Chicken Bowl',\n",
       " 'Chicken Burrito',\n",
       " 'Chicken Bowl',\n",
       " 'Chicken Salad Bowl',\n",
       " 'Chicken Salad Bowl',\n",
       " 'Steak Bowl',\n",
       " 'Chicken Bowl',\n",
       " 'Steak Burrito',\n",
       " 'Canned Soft Drink',\n",
       " 'Chicken Burrito',\n",
       " 'Chicken Burrito',\n",
       " 'Barbacoa Burrito',\n",
       " 'Chicken Burrito',\n",
       " 'Chicken Bowl',\n",
       " '6 Pack Soft Drink',\n",
       " 'Chicken Burrito',\n",
       " 'Carnitas Burrito',\n",
       " 'Barbacoa Soft Tacos',\n",
       " 'Steak Burrito',\n",
       " 'Carnitas Salad Bowl',\n",
       " 'Steak Bowl',\n",
       " 'Chicken Bowl',\n",
       " 'Chicken Burrito',\n",
       " 'Steak Burrito',\n",
       " 'Steak Burrito',\n",
       " 'Canned Soda',\n",
       " 'Steak Burrito',\n",
       " 'Veggie Burrito',\n",
       " 'Steak Burrito',\n",
       " 'Steak Bowl',\n",
       " 'Barbacoa Soft Tacos',\n",
       " 'Barbacoa Burrito',\n",
       " 'Chicken Burrito',\n",
       " 'Steak Burrito',\n",
       " 'Steak Burrito',\n",
       " 'Chicken Burrito',\n",
       " 'Chicken Bowl',\n",
       " 'Steak Salad Bowl',\n",
       " 'Chicken Burrito',\n",
       " 'Chicken Burrito',\n",
       " 'Chicken Bowl',\n",
       " 'Canned Soft Drink',\n",
       " 'Chicken Burrito',\n",
       " '6 Pack Soft Drink',\n",
       " 'Steak Crispy Tacos',\n",
       " 'Chicken Burrito',\n",
       " 'Chicken Bowl',\n",
       " 'Canned Soft Drink',\n",
       " 'Barbacoa Bowl',\n",
       " 'Barbacoa Bowl',\n",
       " 'Steak Bowl',\n",
       " 'Chicken Bowl',\n",
       " 'Barbacoa Bowl',\n",
       " 'Chicken Bowl',\n",
       " 'Chicken Burrito',\n",
       " 'Carnitas Soft Tacos',\n",
       " 'Barbacoa Burrito',\n",
       " 'Chicken Bowl',\n",
       " 'Chicken Salad Bowl',\n",
       " 'Steak Bowl',\n",
       " 'Veggie Burrito',\n",
       " 'Chicken Soft Tacos',\n",
       " 'Carnitas Crispy Tacos',\n",
       " 'Carnitas Burrito',\n",
       " 'Chicken Bowl',\n",
       " 'Steak Burrito',\n",
       " 'Carnitas Bowl',\n",
       " 'Chicken Burrito',\n",
       " 'Barbacoa Burrito',\n",
       " 'Chicken Burrito',\n",
       " 'Chicken Bowl',\n",
       " 'Chicken Bowl',\n",
       " 'Chicken Bowl',\n",
       " 'Chicken Bowl',\n",
       " 'Chicken Burrito',\n",
       " 'Chicken Bowl',\n",
       " 'Chicken Burrito',\n",
       " 'Carnitas Bowl',\n",
       " 'Izze',\n",
       " 'Steak Burrito',\n",
       " 'Canned Soda',\n",
       " 'Canned Soda',\n",
       " 'Chicken Burrito',\n",
       " 'Chicken Bowl',\n",
       " 'Chicken Bowl',\n",
       " 'Steak Bowl',\n",
       " 'Chicken Bowl',\n",
       " 'Canned Soft Drink',\n",
       " 'Barbacoa Salad Bowl',\n",
       " 'Steak Burrito',\n",
       " 'Canned Soft Drink',\n",
       " 'Chicken Burrito',\n",
       " 'Barbacoa Bowl',\n",
       " 'Barbacoa Bowl',\n",
       " 'Carnitas Burrito',\n",
       " 'Chicken Burrito',\n",
       " 'Barbacoa Soft Tacos',\n",
       " 'Veggie Bowl',\n",
       " 'Canned Soft Drink',\n",
       " 'Carnitas Bowl',\n",
       " 'Canned Soft Drink',\n",
       " 'Steak Bowl',\n",
       " 'Canned Soft Drink',\n",
       " 'Chicken Soft Tacos',\n",
       " 'Canned Soft Drink',\n",
       " 'Chicken Burrito',\n",
       " 'Veggie Burrito',\n",
       " 'Chicken Burrito',\n",
       " 'Steak Burrito',\n",
       " 'Veggie Burrito',\n",
       " '6 Pack Soft Drink',\n",
       " 'Veggie Burrito',\n",
       " 'Steak Burrito',\n",
       " 'Barbacoa Bowl',\n",
       " 'Chicken Bowl',\n",
       " 'Chicken Soft Tacos',\n",
       " 'Chicken Burrito',\n",
       " 'Chicken Burrito',\n",
       " 'Steak Burrito',\n",
       " 'Chicken Burrito',\n",
       " 'Steak Burrito',\n",
       " 'Steak Burrito',\n",
       " 'Chicken Soft Tacos',\n",
       " '6 Pack Soft Drink',\n",
       " 'Chicken Burrito',\n",
       " 'Chicken Bowl',\n",
       " 'Steak Burrito',\n",
       " 'Canned Soft Drink',\n",
       " 'Chicken Burrito',\n",
       " 'Carnitas Burrito',\n",
       " 'Steak Burrito',\n",
       " 'Canned Soda',\n",
       " 'Chicken Bowl',\n",
       " 'Steak Bowl',\n",
       " 'Carnitas Bowl',\n",
       " 'Chicken Bowl',\n",
       " 'Veggie Bowl',\n",
       " 'Chicken Bowl',\n",
       " 'Chicken Bowl',\n",
       " 'Barbacoa Burrito',\n",
       " 'Chicken Bowl',\n",
       " 'Chicken Bowl',\n",
       " 'Steak Bowl',\n",
       " 'Chicken Bowl',\n",
       " 'Steak Burrito',\n",
       " 'Chicken Burrito',\n",
       " 'Steak Salad Bowl',\n",
       " 'Steak Bowl',\n",
       " 'Steak Bowl',\n",
       " 'Veggie Salad Bowl',\n",
       " 'Veggie Bowl',\n",
       " 'Chicken Burrito',\n",
       " 'Steak Burrito',\n",
       " 'Chicken Burrito',\n",
       " 'Steak Burrito',\n",
       " 'Steak Burrito',\n",
       " 'Barbacoa Salad Bowl',\n",
       " 'Steak Crispy Tacos',\n",
       " 'Chicken Burrito',\n",
       " 'Chicken Bowl',\n",
       " 'Steak Bowl',\n",
       " 'Chicken Burrito',\n",
       " 'Chicken Bowl',\n",
       " 'Steak Burrito',\n",
       " 'Barbacoa Soft Tacos',\n",
       " 'Chicken Burrito',\n",
       " 'Carnitas Burrito',\n",
       " 'Canned Soft Drink',\n",
       " 'Steak Burrito',\n",
       " 'Carnitas Bowl',\n",
       " 'Canned Soft Drink',\n",
       " 'Carnitas Bowl',\n",
       " 'Chicken Crispy Tacos',\n",
       " ...]"
      ]
     },
     "execution_count": 155,
     "metadata": {},
     "output_type": "execute_result"
    }
   ],
   "source": [
    "quantity_to_list "
   ]
  },
  {
   "cell_type": "markdown",
   "metadata": {},
   "source": [
    "We have the list of all items in the \"item_list\" column, now we can find the length of that list :"
   ]
  },
  {
   "cell_type": "code",
   "execution_count": 156,
   "metadata": {},
   "outputs": [],
   "source": [
    "number_of_items = len(quantity_to_list)"
   ]
  },
  {
   "cell_type": "code",
   "execution_count": 157,
   "metadata": {},
   "outputs": [
    {
     "name": "stdout",
     "output_type": "stream",
     "text": [
      "Number of items ordered is:  3376\n"
     ]
    }
   ],
   "source": [
    "print(\"Number of items ordered is: \", number_of_items)"
   ]
  },
  {
   "cell_type": "markdown",
   "metadata": {},
   "source": [
    "This shows the number of items, not the sum of ordered items. In order to find the total nuber of items order i need to sum the quantities of all items.Before doing so , I need to prepare the column, check if all values are numeric (check the data type of the column ) and if neccessary convert it into a numeric one."
   ]
  },
  {
   "cell_type": "markdown",
   "metadata": {},
   "source": [
    "1. Check the datatype of the \"quantity\" column."
   ]
  },
  {
   "cell_type": "code",
   "execution_count": 158,
   "metadata": {},
   "outputs": [
    {
     "name": "stdout",
     "output_type": "stream",
     "text": [
      "int64\n"
     ]
    }
   ],
   "source": [
    "print(chipo_choice_column_cleaned['quantity'].dtype)"
   ]
  },
  {
   "cell_type": "markdown",
   "metadata": {},
   "source": [
    "### Step 13. Turn the item price into a float"
   ]
  },
  {
   "cell_type": "markdown",
   "metadata": {},
   "source": [
    "#### Step 13.a. Check the item price type"
   ]
  },
  {
   "cell_type": "code",
   "execution_count": 159,
   "metadata": {},
   "outputs": [
    {
     "data": {
      "text/plain": [
       "dtype('O')"
      ]
     },
     "execution_count": 159,
     "metadata": {},
     "output_type": "execute_result"
    }
   ],
   "source": [
    "chipo.item_price.dtype"
   ]
  },
  {
   "cell_type": "markdown",
   "metadata": {},
   "source": [
    "#### Step 13.b. Create a lambda function and change the type of item price"
   ]
  },
  {
   "attachments": {
    "image.png": {
     "image/png": "[encoded data removed]"
    }
   },
   "cell_type": "markdown",
   "metadata": {},
   "source": [
    "Need to remember how to create a lambda function...\n",
    "\n",
    "So...A lamda function is an anonumous function that can take multiple arguments but only one expression and looks like this:\n",
    "![image.png](attachment:image.png) and we use the apply() method to apply the L function to the item_price column :\n",
    "\n"
   ]
  },
  {
   "cell_type": "code",
   "execution_count": 160,
   "metadata": {},
   "outputs": [
    {
     "ename": "ValueError",
     "evalue": "could not convert string to float: '$2.39 '",
     "output_type": "error",
     "traceback": [
      "\u001b[1;31m---------------------------------------------------------------------------\u001b[0m",
      "\u001b[1;31mValueError\u001b[0m                                Traceback (most recent call last)",
      "Cell \u001b[1;32mIn[160], line 1\u001b[0m\n\u001b[1;32m----> 1\u001b[0m chipo[\u001b[38;5;124m'\u001b[39m\u001b[38;5;124mitem_price\u001b[39m\u001b[38;5;124m'\u001b[39m] \u001b[38;5;241m=\u001b[39m \u001b[43mchipo\u001b[49m\u001b[43m[\u001b[49m\u001b[38;5;124;43m'\u001b[39;49m\u001b[38;5;124;43mitem_price\u001b[39;49m\u001b[38;5;124;43m'\u001b[39;49m\u001b[43m]\u001b[49m\u001b[38;5;241;43m.\u001b[39;49m\u001b[43mapply\u001b[49m\u001b[43m(\u001b[49m\u001b[38;5;28;43;01mlambda\u001b[39;49;00m\u001b[43m \u001b[49m\u001b[43mx\u001b[49m\u001b[43m:\u001b[49m\u001b[43m \u001b[49m\u001b[38;5;28;43mfloat\u001b[39;49m\u001b[43m(\u001b[49m\u001b[43mx\u001b[49m\u001b[43m)\u001b[49m\u001b[43m)\u001b[49m\n",
      "File \u001b[1;32mc:\\Users\\User\\Miniconda3\\Lib\\site-packages\\pandas\\core\\series.py:4915\u001b[0m, in \u001b[0;36mSeries.apply\u001b[1;34m(self, func, convert_dtype, args, by_row, **kwargs)\u001b[0m\n\u001b[0;32m   4780\u001b[0m \u001b[38;5;28;01mdef\u001b[39;00m \u001b[38;5;21mapply\u001b[39m(\n\u001b[0;32m   4781\u001b[0m     \u001b[38;5;28mself\u001b[39m,\n\u001b[0;32m   4782\u001b[0m     func: AggFuncType,\n\u001b[1;32m   (...)\u001b[0m\n\u001b[0;32m   4787\u001b[0m     \u001b[38;5;241m*\u001b[39m\u001b[38;5;241m*\u001b[39mkwargs,\n\u001b[0;32m   4788\u001b[0m ) \u001b[38;5;241m-\u001b[39m\u001b[38;5;241m>\u001b[39m DataFrame \u001b[38;5;241m|\u001b[39m Series:\n\u001b[0;32m   4789\u001b[0m \u001b[38;5;250m    \u001b[39m\u001b[38;5;124;03m\"\"\"\u001b[39;00m\n\u001b[0;32m   4790\u001b[0m \u001b[38;5;124;03m    Invoke function on values of Series.\u001b[39;00m\n\u001b[0;32m   4791\u001b[0m \n\u001b[1;32m   (...)\u001b[0m\n\u001b[0;32m   4906\u001b[0m \u001b[38;5;124;03m    dtype: float64\u001b[39;00m\n\u001b[0;32m   4907\u001b[0m \u001b[38;5;124;03m    \"\"\"\u001b[39;00m\n\u001b[0;32m   4908\u001b[0m     \u001b[38;5;28;01mreturn\u001b[39;00m \u001b[43mSeriesApply\u001b[49m\u001b[43m(\u001b[49m\n\u001b[0;32m   4909\u001b[0m \u001b[43m        \u001b[49m\u001b[38;5;28;43mself\u001b[39;49m\u001b[43m,\u001b[49m\n\u001b[0;32m   4910\u001b[0m \u001b[43m        \u001b[49m\u001b[43mfunc\u001b[49m\u001b[43m,\u001b[49m\n\u001b[0;32m   4911\u001b[0m \u001b[43m        \u001b[49m\u001b[43mconvert_dtype\u001b[49m\u001b[38;5;241;43m=\u001b[39;49m\u001b[43mconvert_dtype\u001b[49m\u001b[43m,\u001b[49m\n\u001b[0;32m   4912\u001b[0m \u001b[43m        \u001b[49m\u001b[43mby_row\u001b[49m\u001b[38;5;241;43m=\u001b[39;49m\u001b[43mby_row\u001b[49m\u001b[43m,\u001b[49m\n\u001b[0;32m   4913\u001b[0m \u001b[43m        \u001b[49m\u001b[43margs\u001b[49m\u001b[38;5;241;43m=\u001b[39;49m\u001b[43margs\u001b[49m\u001b[43m,\u001b[49m\n\u001b[0;32m   4914\u001b[0m \u001b[43m        \u001b[49m\u001b[43mkwargs\u001b[49m\u001b[38;5;241;43m=\u001b[39;49m\u001b[43mkwargs\u001b[49m\u001b[43m,\u001b[49m\n\u001b[1;32m-> 4915\u001b[0m \u001b[43m    \u001b[49m\u001b[43m)\u001b[49m\u001b[38;5;241;43m.\u001b[39;49m\u001b[43mapply\u001b[49m\u001b[43m(\u001b[49m\u001b[43m)\u001b[49m\n",
      "File \u001b[1;32mc:\\Users\\User\\Miniconda3\\Lib\\site-packages\\pandas\\core\\apply.py:1427\u001b[0m, in \u001b[0;36mSeriesApply.apply\u001b[1;34m(self)\u001b[0m\n\u001b[0;32m   1424\u001b[0m     \u001b[38;5;28;01mreturn\u001b[39;00m \u001b[38;5;28mself\u001b[39m\u001b[38;5;241m.\u001b[39mapply_compat()\n\u001b[0;32m   1426\u001b[0m \u001b[38;5;66;03m# self.func is Callable\u001b[39;00m\n\u001b[1;32m-> 1427\u001b[0m \u001b[38;5;28;01mreturn\u001b[39;00m \u001b[38;5;28;43mself\u001b[39;49m\u001b[38;5;241;43m.\u001b[39;49m\u001b[43mapply_standard\u001b[49m\u001b[43m(\u001b[49m\u001b[43m)\u001b[49m\n",
      "File \u001b[1;32mc:\\Users\\User\\Miniconda3\\Lib\\site-packages\\pandas\\core\\apply.py:1507\u001b[0m, in \u001b[0;36mSeriesApply.apply_standard\u001b[1;34m(self)\u001b[0m\n\u001b[0;32m   1501\u001b[0m \u001b[38;5;66;03m# row-wise access\u001b[39;00m\n\u001b[0;32m   1502\u001b[0m \u001b[38;5;66;03m# apply doesn't have a `na_action` keyword and for backward compat reasons\u001b[39;00m\n\u001b[0;32m   1503\u001b[0m \u001b[38;5;66;03m# we need to give `na_action=\"ignore\"` for categorical data.\u001b[39;00m\n\u001b[0;32m   1504\u001b[0m \u001b[38;5;66;03m# TODO: remove the `na_action=\"ignore\"` when that default has been changed in\u001b[39;00m\n\u001b[0;32m   1505\u001b[0m \u001b[38;5;66;03m#  Categorical (GH51645).\u001b[39;00m\n\u001b[0;32m   1506\u001b[0m action \u001b[38;5;241m=\u001b[39m \u001b[38;5;124m\"\u001b[39m\u001b[38;5;124mignore\u001b[39m\u001b[38;5;124m\"\u001b[39m \u001b[38;5;28;01mif\u001b[39;00m \u001b[38;5;28misinstance\u001b[39m(obj\u001b[38;5;241m.\u001b[39mdtype, CategoricalDtype) \u001b[38;5;28;01melse\u001b[39;00m \u001b[38;5;28;01mNone\u001b[39;00m\n\u001b[1;32m-> 1507\u001b[0m mapped \u001b[38;5;241m=\u001b[39m \u001b[43mobj\u001b[49m\u001b[38;5;241;43m.\u001b[39;49m\u001b[43m_map_values\u001b[49m\u001b[43m(\u001b[49m\n\u001b[0;32m   1508\u001b[0m \u001b[43m    \u001b[49m\u001b[43mmapper\u001b[49m\u001b[38;5;241;43m=\u001b[39;49m\u001b[43mcurried\u001b[49m\u001b[43m,\u001b[49m\u001b[43m \u001b[49m\u001b[43mna_action\u001b[49m\u001b[38;5;241;43m=\u001b[39;49m\u001b[43maction\u001b[49m\u001b[43m,\u001b[49m\u001b[43m \u001b[49m\u001b[43mconvert\u001b[49m\u001b[38;5;241;43m=\u001b[39;49m\u001b[38;5;28;43mself\u001b[39;49m\u001b[38;5;241;43m.\u001b[39;49m\u001b[43mconvert_dtype\u001b[49m\n\u001b[0;32m   1509\u001b[0m \u001b[43m\u001b[49m\u001b[43m)\u001b[49m\n\u001b[0;32m   1511\u001b[0m \u001b[38;5;28;01mif\u001b[39;00m \u001b[38;5;28mlen\u001b[39m(mapped) \u001b[38;5;129;01mand\u001b[39;00m \u001b[38;5;28misinstance\u001b[39m(mapped[\u001b[38;5;241m0\u001b[39m], ABCSeries):\n\u001b[0;32m   1512\u001b[0m     \u001b[38;5;66;03m# GH#43986 Need to do list(mapped) in order to get treated as nested\u001b[39;00m\n\u001b[0;32m   1513\u001b[0m     \u001b[38;5;66;03m#  See also GH#25959 regarding EA support\u001b[39;00m\n\u001b[0;32m   1514\u001b[0m     \u001b[38;5;28;01mreturn\u001b[39;00m obj\u001b[38;5;241m.\u001b[39m_constructor_expanddim(\u001b[38;5;28mlist\u001b[39m(mapped), index\u001b[38;5;241m=\u001b[39mobj\u001b[38;5;241m.\u001b[39mindex)\n",
      "File \u001b[1;32mc:\\Users\\User\\Miniconda3\\Lib\\site-packages\\pandas\\core\\base.py:921\u001b[0m, in \u001b[0;36mIndexOpsMixin._map_values\u001b[1;34m(self, mapper, na_action, convert)\u001b[0m\n\u001b[0;32m    918\u001b[0m \u001b[38;5;28;01mif\u001b[39;00m \u001b[38;5;28misinstance\u001b[39m(arr, ExtensionArray):\n\u001b[0;32m    919\u001b[0m     \u001b[38;5;28;01mreturn\u001b[39;00m arr\u001b[38;5;241m.\u001b[39mmap(mapper, na_action\u001b[38;5;241m=\u001b[39mna_action)\n\u001b[1;32m--> 921\u001b[0m \u001b[38;5;28;01mreturn\u001b[39;00m \u001b[43malgorithms\u001b[49m\u001b[38;5;241;43m.\u001b[39;49m\u001b[43mmap_array\u001b[49m\u001b[43m(\u001b[49m\u001b[43marr\u001b[49m\u001b[43m,\u001b[49m\u001b[43m \u001b[49m\u001b[43mmapper\u001b[49m\u001b[43m,\u001b[49m\u001b[43m \u001b[49m\u001b[43mna_action\u001b[49m\u001b[38;5;241;43m=\u001b[39;49m\u001b[43mna_action\u001b[49m\u001b[43m,\u001b[49m\u001b[43m \u001b[49m\u001b[43mconvert\u001b[49m\u001b[38;5;241;43m=\u001b[39;49m\u001b[43mconvert\u001b[49m\u001b[43m)\u001b[49m\n",
      "File \u001b[1;32mc:\\Users\\User\\Miniconda3\\Lib\\site-packages\\pandas\\core\\algorithms.py:1743\u001b[0m, in \u001b[0;36mmap_array\u001b[1;34m(arr, mapper, na_action, convert)\u001b[0m\n\u001b[0;32m   1741\u001b[0m values \u001b[38;5;241m=\u001b[39m arr\u001b[38;5;241m.\u001b[39mastype(\u001b[38;5;28mobject\u001b[39m, copy\u001b[38;5;241m=\u001b[39m\u001b[38;5;28;01mFalse\u001b[39;00m)\n\u001b[0;32m   1742\u001b[0m \u001b[38;5;28;01mif\u001b[39;00m na_action \u001b[38;5;129;01mis\u001b[39;00m \u001b[38;5;28;01mNone\u001b[39;00m:\n\u001b[1;32m-> 1743\u001b[0m     \u001b[38;5;28;01mreturn\u001b[39;00m \u001b[43mlib\u001b[49m\u001b[38;5;241;43m.\u001b[39;49m\u001b[43mmap_infer\u001b[49m\u001b[43m(\u001b[49m\u001b[43mvalues\u001b[49m\u001b[43m,\u001b[49m\u001b[43m \u001b[49m\u001b[43mmapper\u001b[49m\u001b[43m,\u001b[49m\u001b[43m \u001b[49m\u001b[43mconvert\u001b[49m\u001b[38;5;241;43m=\u001b[39;49m\u001b[43mconvert\u001b[49m\u001b[43m)\u001b[49m\n\u001b[0;32m   1744\u001b[0m \u001b[38;5;28;01melse\u001b[39;00m:\n\u001b[0;32m   1745\u001b[0m     \u001b[38;5;28;01mreturn\u001b[39;00m lib\u001b[38;5;241m.\u001b[39mmap_infer_mask(\n\u001b[0;32m   1746\u001b[0m         values, mapper, mask\u001b[38;5;241m=\u001b[39misna(values)\u001b[38;5;241m.\u001b[39mview(np\u001b[38;5;241m.\u001b[39muint8), convert\u001b[38;5;241m=\u001b[39mconvert\n\u001b[0;32m   1747\u001b[0m     )\n",
      "File \u001b[1;32mlib.pyx:2972\u001b[0m, in \u001b[0;36mpandas._libs.lib.map_infer\u001b[1;34m()\u001b[0m\n",
      "Cell \u001b[1;32mIn[160], line 1\u001b[0m, in \u001b[0;36m<lambda>\u001b[1;34m(x)\u001b[0m\n\u001b[1;32m----> 1\u001b[0m chipo[\u001b[38;5;124m'\u001b[39m\u001b[38;5;124mitem_price\u001b[39m\u001b[38;5;124m'\u001b[39m] \u001b[38;5;241m=\u001b[39m chipo[\u001b[38;5;124m'\u001b[39m\u001b[38;5;124mitem_price\u001b[39m\u001b[38;5;124m'\u001b[39m]\u001b[38;5;241m.\u001b[39mapply(\u001b[38;5;28;01mlambda\u001b[39;00m x: \u001b[38;5;28;43mfloat\u001b[39;49m\u001b[43m(\u001b[49m\u001b[43mx\u001b[49m\u001b[43m)\u001b[49m)\n",
      "\u001b[1;31mValueError\u001b[0m: could not convert string to float: '$2.39 '"
     ]
    }
   ],
   "source": [
    "chipo['item_price'] = chipo['item_price'].apply(lambda x: float(x))"
   ]
  },
  {
   "cell_type": "code",
   "execution_count": null,
   "metadata": {},
   "outputs": [
    {
     "name": "stdout",
     "output_type": "stream",
     "text": [
      "DataFrame after converting 'item_price' to float:\n",
      "      order_id  quantity                              item_name  \\\n",
      "0            1         1           Chips and Fresh Tomato Salsa   \n",
      "1            1         1                                   Izze   \n",
      "2            1         1                       Nantucket Nectar   \n",
      "3            1         1  Chips and Tomatillo-Green Chili Salsa   \n",
      "4            2         2                           Chicken Bowl   \n",
      "...        ...       ...                                    ...   \n",
      "4617      1833         1                          Steak Burrito   \n",
      "4618      1833         1                          Steak Burrito   \n",
      "4619      1834         1                     Chicken Salad Bowl   \n",
      "4620      1834         1                     Chicken Salad Bowl   \n",
      "4621      1834         1                     Chicken Salad Bowl   \n",
      "\n",
      "                                     choice_description item_price  \n",
      "0                                                   NaN     $2.39   \n",
      "1                                          [Clementine]     $3.39   \n",
      "2                                               [Apple]     $3.39   \n",
      "3                                                   NaN     $2.39   \n",
      "4     [Tomatillo-Red Chili Salsa (Hot), [Black Beans...    $16.98   \n",
      "...                                                 ...        ...  \n",
      "4617  [Fresh Tomato Salsa, [Rice, Black Beans, Sour ...    $11.75   \n",
      "4618  [Fresh Tomato Salsa, [Rice, Sour Cream, Cheese...    $11.75   \n",
      "4619  [Fresh Tomato Salsa, [Fajita Vegetables, Pinto...    $11.25   \n",
      "4620  [Fresh Tomato Salsa, [Fajita Vegetables, Lettu...     $8.75   \n",
      "4621  [Fresh Tomato Salsa, [Fajita Vegetables, Pinto...     $8.75   \n",
      "\n",
      "[4622 rows x 5 columns]\n"
     ]
    }
   ],
   "source": [
    "print(\"DataFrame after converting 'item_price' to float:\")\n",
    "print(chipo)"
   ]
  },
  {
   "attachments": {
    "image.png": {
     "image/png": "[encoded data removed]"
    }
   },
   "cell_type": "markdown",
   "metadata": {},
   "source": [
    "After applying the lambda function I get error message : ![image.png](attachment:image.png)"
   ]
  },
  {
   "attachments": {
    "image.png": {
     "image/png": "[encoded data removed]"
    }
   },
   "cell_type": "markdown",
   "metadata": {},
   "source": [
    "![image.png](attachment:image.png)"
   ]
  },
  {
   "cell_type": "markdown",
   "metadata": {},
   "source": [
    "##### The error message indicates that there values with the $ sign in the column and cannot be converted directly to float.We need to convert the dollar sign and any leading/trailing space before converting these values in float type:\n",
    "\n",
    "#### Detailed Steps :\n",
    "- Convert the column to string type.Ensure all values are strings"
   ]
  },
  {
   "cell_type": "code",
   "execution_count": null,
   "metadata": {},
   "outputs": [],
   "source": [
    "chipo['item_price'] = chipo['item_price'].astype(str)"
   ]
  },
  {
   "cell_type": "markdown",
   "metadata": {},
   "source": [
    "- strip any leading/trailing white space.Clean the string values :"
   ]
  },
  {
   "cell_type": "code",
   "execution_count": null,
   "metadata": {},
   "outputs": [],
   "source": [
    "chipo['item_price'] = chipo['item_price'].str.strip()"
   ]
  },
  {
   "cell_type": "markdown",
   "metadata": {},
   "source": [
    "- remove the dollar sign from the strings "
   ]
  },
  {
   "cell_type": "code",
   "execution_count": null,
   "metadata": {},
   "outputs": [],
   "source": [
    "chipo['item_price'] = chipo['item_price'].str.replace(\"$\",\"\")"
   ]
  },
  {
   "cell_type": "markdown",
   "metadata": {},
   "source": [
    "## Debbuging Result"
   ]
  },
  {
   "attachments": {
    "image.png": {
     "image/png": "[encoded data removed]"
    }
   },
   "cell_type": "markdown",
   "metadata": {},
   "source": [
    "![image.png](attachment:image.png)"
   ]
  },
  {
   "cell_type": "code",
   "execution_count": null,
   "metadata": {},
   "outputs": [
    {
     "name": "stdout",
     "output_type": "stream",
     "text": [
      "\n",
      "After converting to string, stripping whitespace, and removing dollar sign:\n",
      "      order_id  quantity                              item_name  \\\n",
      "0            1         1           Chips and Fresh Tomato Salsa   \n",
      "1            1         1                                   Izze   \n",
      "2            1         1                       Nantucket Nectar   \n",
      "3            1         1  Chips and Tomatillo-Green Chili Salsa   \n",
      "4            2         2                           Chicken Bowl   \n",
      "...        ...       ...                                    ...   \n",
      "4617      1833         1                          Steak Burrito   \n",
      "4618      1833         1                          Steak Burrito   \n",
      "4619      1834         1                     Chicken Salad Bowl   \n",
      "4620      1834         1                     Chicken Salad Bowl   \n",
      "4621      1834         1                     Chicken Salad Bowl   \n",
      "\n",
      "                                     choice_description item_price  \n",
      "0                                                   NaN      2.39   \n",
      "1                                          [Clementine]      3.39   \n",
      "2                                               [Apple]      3.39   \n",
      "3                                                   NaN      2.39   \n",
      "4     [Tomatillo-Red Chili Salsa (Hot), [Black Beans...     16.98   \n",
      "...                                                 ...        ...  \n",
      "4617  [Fresh Tomato Salsa, [Rice, Black Beans, Sour ...     11.75   \n",
      "4618  [Fresh Tomato Salsa, [Rice, Sour Cream, Cheese...     11.75   \n",
      "4619  [Fresh Tomato Salsa, [Fajita Vegetables, Pinto...     11.25   \n",
      "4620  [Fresh Tomato Salsa, [Fajita Vegetables, Lettu...      8.75   \n",
      "4621  [Fresh Tomato Salsa, [Fajita Vegetables, Pinto...      8.75   \n",
      "\n",
      "[4622 rows x 5 columns]\n"
     ]
    }
   ],
   "source": [
    "print(\"\\nAfter converting to string, stripping whitespace, and removing dollar sign:\")\n",
    "print(chipo)"
   ]
  },
  {
   "cell_type": "markdown",
   "metadata": {},
   "source": [
    "#### Step 13.c. Check the item price type"
   ]
  },
  {
   "cell_type": "code",
   "execution_count": null,
   "metadata": {
    "collapsed": false
   },
   "outputs": [
    {
     "data": {
      "text/plain": [
       "dtype('O')"
      ]
     },
     "execution_count": 78,
     "metadata": {},
     "output_type": "execute_result"
    }
   ],
   "source": [
    "chipo.item_price.dtype"
   ]
  },
  {
   "cell_type": "markdown",
   "metadata": {},
   "source": [
    "This indicates that the data type is an object which means it contains strings or a mix of different data types that Pandas is treating as strings hence they can easily be categorised (As lists or dictionaries) so it defaults to treating those values as objects.I have already removed the dollar sign and any trailing/leading whitspaces from strings. I pressume  non numeric characters are present in the column item_price (like commas or unexpected characters) that prevent Pandas reading them as numeric or there is a mixture of numeric and non numeric values."
   ]
  },
  {
   "cell_type": "markdown",
   "metadata": {},
   "source": [
    "#### Troubleshooting steps\n"
   ]
  },
  {
   "cell_type": "markdown",
   "metadata": {},
   "source": [
    "1. Ensure Data Cleaniness "
   ]
  },
  {
   "cell_type": "code",
   "execution_count": null,
   "metadata": {},
   "outputs": [
    {
     "name": "stdout",
     "output_type": "stream",
     "text": [
      "order_id               int64\n",
      "quantity               int64\n",
      "item_name             object\n",
      "choice_description    object\n",
      "item_price            object\n",
      "dtype: object\n"
     ]
    }
   ],
   "source": [
    "#check data type\n",
    "print(chipo.dtypes)"
   ]
  },
  {
   "cell_type": "markdown",
   "metadata": {},
   "source": [
    "2. Identify Missing Values: Check for missing values (NaN, None, empty strings).\n",
    "\n"
   ]
  },
  {
   "cell_type": "code",
   "execution_count": null,
   "metadata": {},
   "outputs": [
    {
     "name": "stdout",
     "output_type": "stream",
     "text": [
      "order_id                 0\n",
      "quantity                 0\n",
      "item_name                0\n",
      "choice_description    1246\n",
      "item_price               0\n",
      "dtype: int64\n"
     ]
    }
   ],
   "source": [
    "print(chipo.isnull().sum())\n"
   ]
  },
  {
   "cell_type": "markdown",
   "metadata": {},
   "source": [
    "3. Make sure all is numeric:"
   ]
  },
  {
   "cell_type": "code",
   "execution_count": 162,
   "metadata": {},
   "outputs": [],
   "source": [
    "# Convert 'item_price' to float\n",
    "\n",
    "chipo['item_price'] = pd.to_numeric(chipo['item_price'].str.replace('$', ''), errors='coerce')"
   ]
  },
  {
   "cell_type": "markdown",
   "metadata": {},
   "source": [
    "pd.to_numeric(chipo['item_price'], errors='coerce'): This function converts the 'item_price' column to numeric values. The errors='coerce' parameter ensures that any values that cannot be converted to numeric will be set as NaN (Not a Number)."
   ]
  },
  {
   "cell_type": "markdown",
   "metadata": {},
   "source": [
    "####  Handling Errors:\n",
    "errors='coerce': If there are any unexpected non-numeric values left after cleaning, using 'coerce' will turn those values into NaN. You can then decide how to handle these NaN values based on your analysis needs (e.g., dropping rows with NaN values or filling them with a default value)."
   ]
  },
  {
   "cell_type": "markdown",
   "metadata": {},
   "source": [
    "Check the type after conversion : "
   ]
  },
  {
   "cell_type": "code",
   "execution_count": 163,
   "metadata": {},
   "outputs": [
    {
     "name": "stdout",
     "output_type": "stream",
     "text": [
      "float64\n"
     ]
    }
   ],
   "source": [
    "# Check the dtype after conversion\n",
    "print(chipo['item_price'].dtype)"
   ]
  },
  {
   "cell_type": "markdown",
   "metadata": {},
   "source": [
    "### Step 14. How much was the revenue for the period in the dataset?"
   ]
  },
  {
   "cell_type": "code",
   "execution_count": 169,
   "metadata": {},
   "outputs": [
    {
     "name": "stdout",
     "output_type": "stream",
     "text": [
      "Revenue was: $39237.02\n"
     ]
    }
   ],
   "source": [
    "revenue = (chipo['quantity']* chipo['item_price']).sum()\n",
    "\n",
    "print('Revenue was: $' + str(np.round(revenue,2)))"
   ]
  },
  {
   "cell_type": "markdown",
   "metadata": {},
   "source": [
    "### Step 15. How many orders were made in the period?"
   ]
  },
  {
   "cell_type": "code",
   "execution_count": null,
   "metadata": {
    "collapsed": false
   },
   "outputs": [],
   "source": []
  },
  {
   "cell_type": "markdown",
   "metadata": {},
   "source": [
    "### Step 16. What is the average revenue amount per order?"
   ]
  },
  {
   "cell_type": "code",
   "execution_count": 87,
   "metadata": {
    "collapsed": false
   },
   "outputs": [],
   "source": [
    "# Solution 1\n",
    "\n"
   ]
  },
  {
   "cell_type": "code",
   "execution_count": 88,
   "metadata": {
    "collapsed": false
   },
   "outputs": [],
   "source": [
    "# Solution 2\n",
    "\n"
   ]
  },
  {
   "cell_type": "markdown",
   "metadata": {},
   "source": [
    "### Step 17. How many different items are sold?"
   ]
  },
  {
   "cell_type": "code",
   "execution_count": null,
   "metadata": {
    "collapsed": false
   },
   "outputs": [],
   "source": []
  }
 ],
 "metadata": {
  "anaconda-cloud": {},
  "kernelspec": {
   "display_name": "base",
   "language": "python",
   "name": "python3"
  },
  "language_info": {
   "codemirror_mode": {
    "name": "ipython",
    "version": 3
   },
   "file_extension": ".py",
   "mimetype": "text/x-python",
   "name": "python",
   "nbconvert_exporter": "python",
   "pygments_lexer": "ipython3",
   "version": "3.12.2"
  }
 },
 "nbformat": 4,
 "nbformat_minor": 0
}
